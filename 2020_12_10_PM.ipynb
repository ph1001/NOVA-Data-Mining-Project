{
 "cells": [
  {
   "cell_type": "markdown",
   "metadata": {},
   "source": [
    "## To Do:\n",
    "- Deal with records that have RDATE before ADATE\n",
    "- (?) (Probably doesn't make sense) Do something with this information (from metadata text file):\n",
    "                            LL mailings had labels only\n",
    "                            WL mailings had labels only\n",
    "                            CC mailings are calendars with stickers but do\n",
    "                               not have labels\n",
    "                            FS mailings are blank cards that fold into\n",
    "                               thirds with labels\n",
    "                            NK mailings are blank cards with labels\n",
    "                            SK mailings are blank cards with labels\n",
    "                            TK mailings have thank you printed on the\n",
    "                               outside with labels\n",
    "                            GK mailings are general greeting cards (an\n",
    "                               assortment of birthday, sympathy, blank, & get\n",
    "                               well) with labels\n",
    "                            XK mailings are Christmas cards with labels\n",
    "                            X1 mailings have labels and a notepad\n",
    "                            G1 mailings have labels and a notepad\n",
    "- Use the variable that is most correlated with 'Age' ('Age' is yet to be created from 'DOB') to fill in the missing values of 'Age' (using a linear model for example)\n",
    "- As a final check for outlier detection, use DBSCAN to see if all outliers were excluded\n",
    "- Henrique's notes:\n",
    "    - I had one note in my notebook we should turn ODATE into number of months for RFA matters maybe and DOB to days\n",
    "    - Another one saying that NOEXCH could be remove. Check it out a see if you agree\n",
    "- Decide what to do with 'HOMEOWNR' (Home Owner Flag, H = Home owner, U = Unknown)\n",
    "    - pd.unique(donors.HOMEOWNR) ---> array([nan, 'H', 'U'], dtype=object)\n",
    "    - Could be incuded as: \"Home owner\" = 1, \"No home owner\" = 0, \"Unknown\" = nan\n",
    "    - But does it make sense to use binary variables for clustering?"
   ]
  },
  {
   "cell_type": "markdown",
   "metadata": {},
   "source": [
    "## <span style=\"color:red\">Insights from the Q&A on Thursday, 10. Dec. 2020:</span>\n",
    "\n",
    "<span style=\"color:red\">See text file \"Notes Q&A 10. Dec. 2020\" in folder \"PDFs and notes\"</span>"
   ]
  },
  {
   "cell_type": "markdown",
   "metadata": {},
   "source": [
    "## Import libraries"
   ]
  },
  {
   "cell_type": "code",
   "execution_count": 1,
   "metadata": {},
   "outputs": [],
   "source": [
    "import pandas as pd\n",
    "import os\n",
    "import numpy as np\n",
    "import datetime\n",
    "import dateutil.relativedelta\n",
    "from datetime import date\n",
    "import math"
   ]
  },
  {
   "cell_type": "markdown",
   "metadata": {},
   "source": [
    "## Load data"
   ]
  },
  {
   "cell_type": "code",
   "execution_count": 2,
   "metadata": {},
   "outputs": [
    {
     "name": "stderr",
     "output_type": "stream",
     "text": [
      "/Users/philippmetzger/opt/anaconda3/envs/data_mining/lib/python3.8/site-packages/IPython/core/interactiveshell.py:3146: DtypeWarning: Columns (9,412) have mixed types.Specify dtype option on import or set low_memory=False.\n",
      "  has_raised = await self.run_ast_nodes(code_ast.body, cell_name,\n"
     ]
    }
   ],
   "source": [
    "# Load data\n",
    "donors = pd.read_csv(os.path.join('Data', 'donors.csv'), sep=',', index_col=0)"
   ]
  },
  {
   "cell_type": "code",
   "execution_count": 3,
   "metadata": {},
   "outputs": [
    {
     "data": {
      "text/html": [
       "<div>\n",
       "<style scoped>\n",
       "    .dataframe tbody tr th:only-of-type {\n",
       "        vertical-align: middle;\n",
       "    }\n",
       "\n",
       "    .dataframe tbody tr th {\n",
       "        vertical-align: top;\n",
       "    }\n",
       "\n",
       "    .dataframe thead th {\n",
       "        text-align: right;\n",
       "    }\n",
       "</style>\n",
       "<table border=\"1\" class=\"dataframe\">\n",
       "  <thead>\n",
       "    <tr style=\"text-align: right;\">\n",
       "      <th></th>\n",
       "      <th>ODATEDW</th>\n",
       "      <th>OSOURCE</th>\n",
       "      <th>TCODE</th>\n",
       "      <th>STATE</th>\n",
       "      <th>ZIP</th>\n",
       "      <th>MAILCODE</th>\n",
       "      <th>PVASTATE</th>\n",
       "      <th>DOB</th>\n",
       "      <th>NOEXCH</th>\n",
       "      <th>RECINHSE</th>\n",
       "      <th>...</th>\n",
       "      <th>AVGGIFT</th>\n",
       "      <th>CONTROLN</th>\n",
       "      <th>HPHONE_D</th>\n",
       "      <th>RFA_2R</th>\n",
       "      <th>RFA_2F</th>\n",
       "      <th>RFA_2A</th>\n",
       "      <th>MDMAUD_R</th>\n",
       "      <th>MDMAUD_F</th>\n",
       "      <th>MDMAUD_A</th>\n",
       "      <th>GEOCODE2</th>\n",
       "    </tr>\n",
       "  </thead>\n",
       "  <tbody>\n",
       "    <tr>\n",
       "      <th>0</th>\n",
       "      <td>2009-01-01</td>\n",
       "      <td>GRI</td>\n",
       "      <td>0</td>\n",
       "      <td>IL</td>\n",
       "      <td>61081</td>\n",
       "      <td></td>\n",
       "      <td></td>\n",
       "      <td>1957-12-01</td>\n",
       "      <td>0</td>\n",
       "      <td></td>\n",
       "      <td>...</td>\n",
       "      <td>7.741935</td>\n",
       "      <td>95515</td>\n",
       "      <td>0</td>\n",
       "      <td>L</td>\n",
       "      <td>4</td>\n",
       "      <td>E</td>\n",
       "      <td>X</td>\n",
       "      <td>X</td>\n",
       "      <td>X</td>\n",
       "      <td>C</td>\n",
       "    </tr>\n",
       "    <tr>\n",
       "      <th>1</th>\n",
       "      <td>2014-01-01</td>\n",
       "      <td>BOA</td>\n",
       "      <td>1</td>\n",
       "      <td>CA</td>\n",
       "      <td>91326</td>\n",
       "      <td></td>\n",
       "      <td></td>\n",
       "      <td>1972-02-01</td>\n",
       "      <td>0</td>\n",
       "      <td></td>\n",
       "      <td>...</td>\n",
       "      <td>15.666667</td>\n",
       "      <td>148535</td>\n",
       "      <td>0</td>\n",
       "      <td>L</td>\n",
       "      <td>2</td>\n",
       "      <td>G</td>\n",
       "      <td>X</td>\n",
       "      <td>X</td>\n",
       "      <td>X</td>\n",
       "      <td>A</td>\n",
       "    </tr>\n",
       "    <tr>\n",
       "      <th>2</th>\n",
       "      <td>2010-01-01</td>\n",
       "      <td>AMH</td>\n",
       "      <td>1</td>\n",
       "      <td>NC</td>\n",
       "      <td>27017</td>\n",
       "      <td></td>\n",
       "      <td></td>\n",
       "      <td>NaN</td>\n",
       "      <td>0</td>\n",
       "      <td></td>\n",
       "      <td>...</td>\n",
       "      <td>7.481481</td>\n",
       "      <td>15078</td>\n",
       "      <td>1</td>\n",
       "      <td>L</td>\n",
       "      <td>4</td>\n",
       "      <td>E</td>\n",
       "      <td>X</td>\n",
       "      <td>X</td>\n",
       "      <td>X</td>\n",
       "      <td>C</td>\n",
       "    </tr>\n",
       "    <tr>\n",
       "      <th>3</th>\n",
       "      <td>2007-01-01</td>\n",
       "      <td>BRY</td>\n",
       "      <td>0</td>\n",
       "      <td>CA</td>\n",
       "      <td>95953</td>\n",
       "      <td></td>\n",
       "      <td></td>\n",
       "      <td>1948-01-01</td>\n",
       "      <td>0</td>\n",
       "      <td></td>\n",
       "      <td>...</td>\n",
       "      <td>6.812500</td>\n",
       "      <td>172556</td>\n",
       "      <td>1</td>\n",
       "      <td>L</td>\n",
       "      <td>4</td>\n",
       "      <td>E</td>\n",
       "      <td>X</td>\n",
       "      <td>X</td>\n",
       "      <td>X</td>\n",
       "      <td>C</td>\n",
       "    </tr>\n",
       "    <tr>\n",
       "      <th>4</th>\n",
       "      <td>2006-01-01</td>\n",
       "      <td></td>\n",
       "      <td>0</td>\n",
       "      <td>FL</td>\n",
       "      <td>33176</td>\n",
       "      <td></td>\n",
       "      <td></td>\n",
       "      <td>1940-01-01</td>\n",
       "      <td>0</td>\n",
       "      <td>X</td>\n",
       "      <td>...</td>\n",
       "      <td>6.864865</td>\n",
       "      <td>7112</td>\n",
       "      <td>1</td>\n",
       "      <td>L</td>\n",
       "      <td>2</td>\n",
       "      <td>F</td>\n",
       "      <td>X</td>\n",
       "      <td>X</td>\n",
       "      <td>X</td>\n",
       "      <td>A</td>\n",
       "    </tr>\n",
       "    <tr>\n",
       "      <th>...</th>\n",
       "      <td>...</td>\n",
       "      <td>...</td>\n",
       "      <td>...</td>\n",
       "      <td>...</td>\n",
       "      <td>...</td>\n",
       "      <td>...</td>\n",
       "      <td>...</td>\n",
       "      <td>...</td>\n",
       "      <td>...</td>\n",
       "      <td>...</td>\n",
       "      <td>...</td>\n",
       "      <td>...</td>\n",
       "      <td>...</td>\n",
       "      <td>...</td>\n",
       "      <td>...</td>\n",
       "      <td>...</td>\n",
       "      <td>...</td>\n",
       "      <td>...</td>\n",
       "      <td>...</td>\n",
       "      <td>...</td>\n",
       "      <td>...</td>\n",
       "    </tr>\n",
       "    <tr>\n",
       "      <th>95407</th>\n",
       "      <td>2016-01-01</td>\n",
       "      <td>ASE</td>\n",
       "      <td>1</td>\n",
       "      <td>AK</td>\n",
       "      <td>99504</td>\n",
       "      <td></td>\n",
       "      <td></td>\n",
       "      <td>NaN</td>\n",
       "      <td>0</td>\n",
       "      <td></td>\n",
       "      <td>...</td>\n",
       "      <td>25.000000</td>\n",
       "      <td>184568</td>\n",
       "      <td>0</td>\n",
       "      <td>L</td>\n",
       "      <td>1</td>\n",
       "      <td>G</td>\n",
       "      <td>X</td>\n",
       "      <td>X</td>\n",
       "      <td>X</td>\n",
       "      <td>C</td>\n",
       "    </tr>\n",
       "    <tr>\n",
       "      <th>95408</th>\n",
       "      <td>2016-01-01</td>\n",
       "      <td>DCD</td>\n",
       "      <td>1</td>\n",
       "      <td>TX</td>\n",
       "      <td>77379</td>\n",
       "      <td></td>\n",
       "      <td></td>\n",
       "      <td>1970-01-01</td>\n",
       "      <td>0</td>\n",
       "      <td></td>\n",
       "      <td>...</td>\n",
       "      <td>20.000000</td>\n",
       "      <td>122706</td>\n",
       "      <td>1</td>\n",
       "      <td>L</td>\n",
       "      <td>1</td>\n",
       "      <td>F</td>\n",
       "      <td>X</td>\n",
       "      <td>X</td>\n",
       "      <td>X</td>\n",
       "      <td>A</td>\n",
       "    </tr>\n",
       "    <tr>\n",
       "      <th>95409</th>\n",
       "      <td>2015-01-01</td>\n",
       "      <td>MBC</td>\n",
       "      <td>1</td>\n",
       "      <td>MI</td>\n",
       "      <td>48910</td>\n",
       "      <td></td>\n",
       "      <td></td>\n",
       "      <td>1958-01-01</td>\n",
       "      <td>0</td>\n",
       "      <td></td>\n",
       "      <td>...</td>\n",
       "      <td>8.285714</td>\n",
       "      <td>189641</td>\n",
       "      <td>1</td>\n",
       "      <td>L</td>\n",
       "      <td>3</td>\n",
       "      <td>E</td>\n",
       "      <td>X</td>\n",
       "      <td>X</td>\n",
       "      <td>X</td>\n",
       "      <td>B</td>\n",
       "    </tr>\n",
       "    <tr>\n",
       "      <th>95410</th>\n",
       "      <td>2006-01-01</td>\n",
       "      <td>PRV</td>\n",
       "      <td>0</td>\n",
       "      <td>CA</td>\n",
       "      <td>91320</td>\n",
       "      <td></td>\n",
       "      <td></td>\n",
       "      <td>1960-05-01</td>\n",
       "      <td>0</td>\n",
       "      <td>X</td>\n",
       "      <td>...</td>\n",
       "      <td>12.146341</td>\n",
       "      <td>4693</td>\n",
       "      <td>1</td>\n",
       "      <td>L</td>\n",
       "      <td>4</td>\n",
       "      <td>F</td>\n",
       "      <td>X</td>\n",
       "      <td>X</td>\n",
       "      <td>X</td>\n",
       "      <td>A</td>\n",
       "    </tr>\n",
       "    <tr>\n",
       "      <th>95411</th>\n",
       "      <td>2008-01-01</td>\n",
       "      <td>MCC</td>\n",
       "      <td>2</td>\n",
       "      <td>NC</td>\n",
       "      <td>28409</td>\n",
       "      <td></td>\n",
       "      <td></td>\n",
       "      <td>1938-01-01</td>\n",
       "      <td>0</td>\n",
       "      <td>X</td>\n",
       "      <td>...</td>\n",
       "      <td>96.794872</td>\n",
       "      <td>185114</td>\n",
       "      <td>1</td>\n",
       "      <td>L</td>\n",
       "      <td>1</td>\n",
       "      <td>G</td>\n",
       "      <td>C</td>\n",
       "      <td>1</td>\n",
       "      <td>C</td>\n",
       "      <td>C</td>\n",
       "    </tr>\n",
       "  </tbody>\n",
       "</table>\n",
       "<p>95412 rows × 475 columns</p>\n",
       "</div>"
      ],
      "text/plain": [
       "          ODATEDW OSOURCE  TCODE STATE    ZIP MAILCODE PVASTATE         DOB  \\\n",
       "0      2009-01-01     GRI      0    IL  61081                    1957-12-01   \n",
       "1      2014-01-01     BOA      1    CA  91326                    1972-02-01   \n",
       "2      2010-01-01     AMH      1    NC  27017                           NaN   \n",
       "3      2007-01-01     BRY      0    CA  95953                    1948-01-01   \n",
       "4      2006-01-01              0    FL  33176                    1940-01-01   \n",
       "...           ...     ...    ...   ...    ...      ...      ...         ...   \n",
       "95407  2016-01-01     ASE      1    AK  99504                           NaN   \n",
       "95408  2016-01-01     DCD      1    TX  77379                    1970-01-01   \n",
       "95409  2015-01-01     MBC      1    MI  48910                    1958-01-01   \n",
       "95410  2006-01-01     PRV      0    CA  91320                    1960-05-01   \n",
       "95411  2008-01-01     MCC      2    NC  28409                    1938-01-01   \n",
       "\n",
       "      NOEXCH RECINHSE  ...    AVGGIFT CONTROLN HPHONE_D RFA_2R RFA_2F RFA_2A  \\\n",
       "0          0           ...   7.741935    95515        0      L      4      E   \n",
       "1          0           ...  15.666667   148535        0      L      2      G   \n",
       "2          0           ...   7.481481    15078        1      L      4      E   \n",
       "3          0           ...   6.812500   172556        1      L      4      E   \n",
       "4          0        X  ...   6.864865     7112        1      L      2      F   \n",
       "...      ...      ...  ...        ...      ...      ...    ...    ...    ...   \n",
       "95407      0           ...  25.000000   184568        0      L      1      G   \n",
       "95408      0           ...  20.000000   122706        1      L      1      F   \n",
       "95409      0           ...   8.285714   189641        1      L      3      E   \n",
       "95410      0        X  ...  12.146341     4693        1      L      4      F   \n",
       "95411      0        X  ...  96.794872   185114        1      L      1      G   \n",
       "\n",
       "      MDMAUD_R MDMAUD_F MDMAUD_A GEOCODE2  \n",
       "0            X        X        X        C  \n",
       "1            X        X        X        A  \n",
       "2            X        X        X        C  \n",
       "3            X        X        X        C  \n",
       "4            X        X        X        A  \n",
       "...        ...      ...      ...      ...  \n",
       "95407        X        X        X        C  \n",
       "95408        X        X        X        A  \n",
       "95409        X        X        X        B  \n",
       "95410        X        X        X        A  \n",
       "95411        C        1        C        C  \n",
       "\n",
       "[95412 rows x 475 columns]"
      ]
     },
     "execution_count": 3,
     "metadata": {},
     "output_type": "execute_result"
    }
   ],
   "source": [
    "donors"
   ]
  },
  {
   "cell_type": "markdown",
   "metadata": {},
   "source": [
    "## Asses existance of nan values and duplictes and deal with empty strings"
   ]
  },
  {
   "cell_type": "code",
   "execution_count": 4,
   "metadata": {
    "scrolled": true
   },
   "outputs": [
    {
     "data": {
      "text/plain": [
       "DOB         23883\n",
       "NUMCHLD     83026\n",
       "INCOME      21286\n",
       "WEALTH1     44732\n",
       "MBCRAFT     52854\n",
       "            ...  \n",
       "RAMNT_24    77674\n",
       "FISTDATE        2\n",
       "NEXTDATE     9973\n",
       "TIMELAG      9973\n",
       "GEOCODE2      132\n",
       "Length: 92, dtype: int64"
      ]
     },
     "execution_count": 4,
     "metadata": {},
     "output_type": "execute_result"
    }
   ],
   "source": [
    "# List the variables that have missing values and their missing value counts\n",
    "donors.isna().sum()[donors.isna().sum()!=0]"
   ]
  },
  {
   "cell_type": "code",
   "execution_count": 5,
   "metadata": {},
   "outputs": [
    {
     "data": {
      "text/plain": [
       "5158884"
      ]
     },
     "execution_count": 5,
     "metadata": {},
     "output_type": "execute_result"
    }
   ],
   "source": [
    "# Get the total number of nan values\n",
    "donors.isna().sum()[donors.isna().sum()!=0].sum()"
   ]
  },
  {
   "cell_type": "code",
   "execution_count": 6,
   "metadata": {},
   "outputs": [
    {
     "data": {
      "text/plain": [
       "0"
      ]
     },
     "execution_count": 6,
     "metadata": {},
     "output_type": "execute_result"
    }
   ],
   "source": [
    "# See how many duplicated observations exist\n",
    "donors.duplicated().sum()"
   ]
  },
  {
   "cell_type": "code",
   "execution_count": 7,
   "metadata": {},
   "outputs": [],
   "source": [
    "# Replace \" \" by nans\n",
    "donors.replace(\" \", np.nan, inplace=True)"
   ]
  },
  {
   "cell_type": "code",
   "execution_count": 8,
   "metadata": {},
   "outputs": [
    {
     "data": {
      "text/plain": [
       "8731108"
      ]
     },
     "execution_count": 8,
     "metadata": {},
     "output_type": "execute_result"
    }
   ],
   "source": [
    "# Get the total number of nan values once more\n",
    "donors.isna().sum()[donors.isna().sum()!=0].sum()"
   ]
  },
  {
   "cell_type": "code",
   "execution_count": 9,
   "metadata": {},
   "outputs": [],
   "source": [
    "# Replace \"\" by nans\n",
    "donors.replace(\"\", np.nan, inplace=True)"
   ]
  },
  {
   "cell_type": "code",
   "execution_count": 10,
   "metadata": {},
   "outputs": [
    {
     "data": {
      "text/plain": [
       "8731108"
      ]
     },
     "execution_count": 10,
     "metadata": {},
     "output_type": "execute_result"
    }
   ],
   "source": [
    "# Get the total number of nan values once more\n",
    "donors.isna().sum()[donors.isna().sum()!=0].sum()"
   ]
  },
  {
   "cell_type": "markdown",
   "metadata": {},
   "source": [
    "## Transform columns containing dates to datetime format"
   ]
  },
  {
   "cell_type": "code",
   "execution_count": 11,
   "metadata": {},
   "outputs": [],
   "source": [
    "def series_string_to_date_if_not_nan(x):\n",
    "    \"\"\"This function checks if something is a string, and if so, converts it into a datetime object\"\"\"\n",
    "    # If it's not a nan, but a string\n",
    "    if type(x)==str:\n",
    "        x = datetime.datetime.strptime(x, '%Y-%m-%d').date()\n",
    "    # if it's a nan, change to NaT\n",
    "    # else:\n",
    "    #     x = pd.NaT\n",
    "    return x"
   ]
  },
  {
   "cell_type": "code",
   "execution_count": 12,
   "metadata": {},
   "outputs": [],
   "source": [
    "# Define a function for converting series containing strings to series containing datetime objects\n",
    "def series_string_to_date(series):\n",
    "    \"\"\"This function turns a pandas series that consists of String values into a pandas series containing \n",
    "    datetime objects\"\"\"\n",
    "    series_datetime = series.map(lambda x: series_string_to_date_if_not_nan(x))\n",
    "    return series_datetime"
   ]
  },
  {
   "cell_type": "code",
   "execution_count": 13,
   "metadata": {},
   "outputs": [],
   "source": [
    "def replace_string_col_by_date_col(df, colname):\n",
    "    \"\"\"This function uses 'series_string_to_date' for replacing a string column by a datetime object column\"\"\"\n",
    "    df[colname] = series_string_to_date(df[colname])"
   ]
  },
  {
   "cell_type": "code",
   "execution_count": 14,
   "metadata": {},
   "outputs": [],
   "source": [
    "# Code for checking data types\n",
    "if False:\n",
    "    labels_types = pd.DataFrame({'Labels':list(donors), 'Data types':list(donors.dtypes)})\n",
    "    labels_types[0:10]"
   ]
  },
  {
   "cell_type": "code",
   "execution_count": 15,
   "metadata": {},
   "outputs": [],
   "source": [
    "# Define the labels who's columns should be changed to datetime\n",
    "date_features = [\n",
    "    'ODATEDW',\n",
    "    'DOB',\n",
    "    'ADATE_2',\n",
    "    'ADATE_3',\n",
    "    'ADATE_4',\n",
    "    'ADATE_5',\n",
    "    'ADATE_6',\n",
    "    'ADATE_7',\n",
    "    'ADATE_8',\n",
    "    'ADATE_9',\n",
    "    'ADATE_10',\n",
    "    'ADATE_11',\n",
    "    'ADATE_12',\n",
    "    'ADATE_13',\n",
    "    'ADATE_14',\n",
    "    'ADATE_15',\n",
    "    'ADATE_16',\n",
    "    'ADATE_17',\n",
    "    'ADATE_18',\n",
    "    'ADATE_19',\n",
    "    'ADATE_20',\n",
    "    'ADATE_21',\n",
    "    'ADATE_22',\n",
    "    'ADATE_23',\n",
    "    'ADATE_24',\n",
    "    'MAXADATE',\n",
    "    'RDATE_3',\n",
    "    'RDATE_4',\n",
    "    'RDATE_5',\n",
    "    'RDATE_6',\n",
    "    'RDATE_7',\n",
    "    'RDATE_8',\n",
    "    'RDATE_9',\n",
    "    'RDATE_10',\n",
    "    'RDATE_11',\n",
    "    'RDATE_12',\n",
    "    'RDATE_13',\n",
    "    'RDATE_14',\n",
    "    'RDATE_15',\n",
    "    'RDATE_16',\n",
    "    'RDATE_17',\n",
    "    'RDATE_18',\n",
    "    'RDATE_19',\n",
    "    'RDATE_20',\n",
    "    'RDATE_21',\n",
    "    'RDATE_22',\n",
    "    'RDATE_23',\n",
    "    'RDATE_24',\n",
    "    'MINRDATE',\n",
    "    'MAXRDATE',\n",
    "    'LASTDATE',\n",
    "    'FISTDATE',\n",
    "    'NEXTDATE',\n",
    "]"
   ]
  },
  {
   "cell_type": "code",
   "execution_count": 16,
   "metadata": {},
   "outputs": [],
   "source": [
    "# Code for checking the existing datatypes in a given columns\n",
    "# This needs some work. Doesn't always work properly\n",
    "if False:\n",
    "    feature = 'NUMCHLD'\n",
    "    unique_types = set()\n",
    "    str_indices = []\n",
    "    float_indices = []\n",
    "    other_indices = []\n",
    "    for i in range(len(donors[feature])):\n",
    "        if type(donors[feature][i])==str:\n",
    "                str_indices.append(i)\n",
    "        if type(donors[feature][i])==float:\n",
    "                float_indices.append(i)\n",
    "        else:\n",
    "                other_indices.append(i)\n",
    "        unique_types.add(type(donors[feature][i]))\n",
    "    nans = donors[feature][float_indices]\n",
    "    strings = donors[feature][str_indices]\n",
    "    print('Strings:', strings)\n",
    "    print('Floats (can be NaNs):', nans)\n",
    "    print('Contains the following data types:', unique_types)"
   ]
  },
  {
   "cell_type": "code",
   "execution_count": 17,
   "metadata": {},
   "outputs": [],
   "source": [
    "# Use the functions defined above to change all non-nan values of the columns in 'date_features' datetime objects\n",
    "for label_to_change in date_features:\n",
    "    replace_string_col_by_date_col(donors, label_to_change)"
   ]
  },
  {
   "cell_type": "code",
   "execution_count": 18,
   "metadata": {},
   "outputs": [
    {
     "name": "stdout",
     "output_type": "stream",
     "text": [
      "<class 'datetime.date'>\n",
      "<class 'datetime.date'>\n",
      "<class 'datetime.date'>\n",
      "<class 'datetime.date'>\n",
      "<class 'datetime.date'>\n",
      "<class 'datetime.date'>\n",
      "<class 'datetime.date'>\n",
      "<class 'datetime.date'>\n",
      "<class 'datetime.date'>\n",
      "<class 'datetime.date'>\n",
      "<class 'datetime.date'>\n",
      "<class 'datetime.date'>\n",
      "<class 'datetime.date'>\n",
      "<class 'datetime.date'>\n",
      "<class 'datetime.date'>\n",
      "<class 'datetime.date'>\n",
      "<class 'datetime.date'>\n",
      "<class 'datetime.date'>\n",
      "<class 'datetime.date'>\n",
      "<class 'datetime.date'>\n",
      "<class 'datetime.date'>\n",
      "<class 'datetime.date'>\n",
      "<class 'datetime.date'>\n",
      "<class 'datetime.date'>\n",
      "<class 'datetime.date'>\n",
      "<class 'datetime.date'>\n",
      "<class 'float'>\n",
      "<class 'float'>\n",
      "<class 'float'>\n",
      "<class 'float'>\n",
      "<class 'float'>\n",
      "<class 'float'>\n",
      "<class 'float'>\n",
      "<class 'datetime.date'>\n",
      "<class 'float'>\n",
      "<class 'float'>\n",
      "<class 'float'>\n",
      "<class 'datetime.date'>\n",
      "<class 'datetime.date'>\n",
      "<class 'datetime.date'>\n",
      "<class 'datetime.date'>\n",
      "<class 'float'>\n",
      "<class 'float'>\n",
      "<class 'float'>\n",
      "<class 'float'>\n",
      "<class 'float'>\n",
      "<class 'datetime.date'>\n",
      "<class 'datetime.date'>\n",
      "<class 'datetime.date'>\n",
      "<class 'datetime.date'>\n",
      "<class 'datetime.date'>\n",
      "<class 'datetime.date'>\n",
      "<class 'datetime.date'>\n"
     ]
    }
   ],
   "source": [
    "# Check that it worked properly\n",
    "for i in range(len(date_features)):\n",
    "    print(type(donors[date_features[i]][0]))"
   ]
  },
  {
   "cell_type": "code",
   "execution_count": 19,
   "metadata": {},
   "outputs": [
    {
     "data": {
      "text/plain": [
       "0       23015 days\n",
       "1       17840 days\n",
       "2              NaT\n",
       "3       26637 days\n",
       "4       29559 days\n",
       "           ...    \n",
       "95407          NaT\n",
       "95408   18601 days\n",
       "95409   22984 days\n",
       "95410   22133 days\n",
       "95411   30289 days\n",
       "Name: DOB, Length: 95412, dtype: timedelta64[ns]"
      ]
     },
     "execution_count": 19,
     "metadata": {},
     "output_type": "execute_result"
    }
   ],
   "source": [
    "# Check if time calculations work properly with these columns\n",
    "now = date.today()\n",
    "now - donors['DOB']\n",
    "# Seems to work well."
   ]
  },
  {
   "cell_type": "markdown",
   "metadata": {},
   "source": [
    "### Treat the cases where 'LASTDATE' suggests that donor is not lapsing or lapsed (In this dataset, all donors should be either lapsing or lapsed)\n",
    "\n",
    "Forum entry \"Lapsed donors\"\n",
    "\n",
    "Entry by David Silva - Thursday, 3 December 2020, 9:43 AM\n",
    " \t\n",
    "\"Hi Philipp,\n",
    "\n",
    "Yes. A lapsed donor is a \"snapshot\" label so it depends on a point in time. The lapsed donors in this dataset are determined according to the date the last promotion (17NK) was emailed to each one of them and the date of their most recent gift. Inconsistent observations are the ones which have an interval between these two dates smaller than 13 months as according to the Lapsed donors description: \"A previous donor who made their donation between 13-24 months ago\".\""
   ]
  },
  {
   "cell_type": "code",
   "execution_count": 20,
   "metadata": {},
   "outputs": [
    {
     "data": {
      "text/plain": [
       "0        2016-05-01\n",
       "1        2016-05-01\n",
       "2        2016-05-01\n",
       "3        2016-05-01\n",
       "4        2016-05-01\n",
       "            ...    \n",
       "95407    2016-05-01\n",
       "95408    2016-05-01\n",
       "95409    2016-05-01\n",
       "95410    2016-05-01\n",
       "95411    2016-05-01\n",
       "Name: ADATE_2, Length: 95412, dtype: object"
      ]
     },
     "execution_count": 20,
     "metadata": {},
     "output_type": "execute_result"
    }
   ],
   "source": [
    "# Create a series that contains the dates from 'adate_2' substacted by 13 months\n",
    "adate_2_minus_13_months = donors.ADATE_2.map(lambda x: x - dateutil.relativedelta.relativedelta(months=13))\n",
    "adate_2_minus_13_months"
   ]
  },
  {
   "cell_type": "code",
   "execution_count": 21,
   "metadata": {},
   "outputs": [
    {
     "data": {
      "text/plain": [
       "0       30 days 11:04:36.923076923\n",
       "1       30 days 11:04:36.923076923\n",
       "2       30 days 11:04:36.923076923\n",
       "3       30 days 11:04:36.923076923\n",
       "4       30 days 11:04:36.923076923\n",
       "                   ...            \n",
       "95407   30 days 11:04:36.923076923\n",
       "95408   30 days 11:04:36.923076923\n",
       "95409   30 days 11:04:36.923076923\n",
       "95410   30 days 11:04:36.923076923\n",
       "95411   30 days 11:04:36.923076923\n",
       "Name: ADATE_2, Length: 95412, dtype: timedelta64[ns]"
      ]
     },
     "execution_count": 21,
     "metadata": {},
     "output_type": "execute_result"
    }
   ],
   "source": [
    "# Check if it worked properly\n",
    "(donors.ADATE_2 - adate_2_minus_13_months) / 13"
   ]
  },
  {
   "cell_type": "code",
   "execution_count": 22,
   "metadata": {},
   "outputs": [
    {
     "name": "stdout",
     "output_type": "stream",
     "text": [
      "Percentage of observation discarded due to inconsistency between their \"lapsed\" status and their LASTDATE value:\n",
      "4.16 %\n"
     ]
    }
   ],
   "source": [
    "# Remove inconsistent values from donors\n",
    "# Inconsistent values are the ones where 'adate_2_minus_13_months' is before 'LASTDATE'\n",
    "# All observations that are not inconsistent are kept.\n",
    "donors_2 = donors[~(adate_2_minus_13_months < donors['LASTDATE'])]\n",
    "\n",
    "percentage_discarded = ((donors.shape[0] - donors_2.shape[0]) / donors.shape[0])*100\n",
    "print('Percentage of observation discarded due to inconsistency between their \"lapsed\" status and their LASTDATE value:')\n",
    "print(round(percentage_discarded, 2), '%')"
   ]
  },
  {
   "cell_type": "code",
   "execution_count": 23,
   "metadata": {},
   "outputs": [],
   "source": [
    "# Accept the changes made\n",
    "donors = donors_2"
   ]
  },
  {
   "cell_type": "markdown",
   "metadata": {},
   "source": [
    "## Descriptive statistics"
   ]
  },
  {
   "cell_type": "code",
   "execution_count": 24,
   "metadata": {},
   "outputs": [],
   "source": [
    "# Create some descriptive statistics\n",
    "desc_stats = donors.describe(include=\"all\")  # try with all and without all\n",
    "# desc_stats = donors.describe()  # try with all and without all"
   ]
  },
  {
   "cell_type": "code",
   "execution_count": 25,
   "metadata": {},
   "outputs": [
    {
     "data": {
      "text/plain": [
       "count          68564\n",
       "unique           844\n",
       "top       1968-01-01\n",
       "freq            1450\n",
       "mean             NaN\n",
       "std              NaN\n",
       "min              NaN\n",
       "25%              NaN\n",
       "50%              NaN\n",
       "75%              NaN\n",
       "max              NaN\n",
       "Name: DOB, dtype: object"
      ]
     },
     "execution_count": 25,
     "metadata": {},
     "output_type": "execute_result"
    }
   ],
   "source": [
    "# View a certain one\n",
    "desc_stats['DOB']"
   ]
  },
  {
   "cell_type": "code",
   "execution_count": 26,
   "metadata": {},
   "outputs": [
    {
     "data": {
      "text/plain": [
       "count          68564\n",
       "unique           844\n",
       "top       1968-01-01\n",
       "freq            1450\n",
       "Name: DOB, dtype: object"
      ]
     },
     "execution_count": 26,
     "metadata": {},
     "output_type": "execute_result"
    }
   ],
   "source": [
    "donors.DOB[~donors.DOB.isna()].describe(include=\"all\")"
   ]
  },
  {
   "cell_type": "markdown",
   "metadata": {},
   "source": [
    "## Separate metric features from non-metric features"
   ]
  },
  {
   "cell_type": "code",
   "execution_count": 27,
   "metadata": {},
   "outputs": [
    {
     "name": "stdout",
     "output_type": "stream",
     "text": [
      "dtype of feature NUMCHLD : float64\n",
      "First non nan element of this feature: 1.0\n",
      "Class of the first element of this feature: <class 'numpy.float64'>\n",
      "Unique values of feature NUMCHLD : [nan  1.  2.  3.  4.  5.  6.  7.]\n"
     ]
    }
   ],
   "source": [
    "## Obtain information of the type of a certain feature\n",
    "feature = 'NUMCHLD'\n",
    "\n",
    "# Print its type\n",
    "print('dtype of feature', feature, ':', donors.dtypes[feature])\n",
    "\n",
    "# Take a closer look at the first non nan element of it\n",
    "first_non_na_element = donors[feature][~donors[feature].isna()].iloc[0]\n",
    "print('First non nan element of this feature:', first_non_na_element)\n",
    "print('Class of the first element of this feature:', type(first_non_na_element))\n",
    "\n",
    "# View the unique values of this feature\n",
    "# print('Sorted unique values of feature', feature, ':', np.sort(pd.unique(donors[feature])))\n",
    "print('Unique values of feature', feature, ':', pd.unique(donors[feature]))"
   ]
  },
  {
   "cell_type": "code",
   "execution_count": 28,
   "metadata": {},
   "outputs": [
    {
     "name": "stdout",
     "output_type": "stream",
     "text": [
      "Number of metric features: 398\n"
     ]
    }
   ],
   "source": [
    "# Create a list with the metric features\n",
    "# Including dates and other variables that might still be Strings at this point\n",
    "# Will use 'to_num' on all metric features in the next step\n",
    "metric_features = ['ODATEDW',\n",
    " 'DOB',\n",
    " 'NUMCHLD',\n",
    " 'INCOME',\n",
    " 'WEALTH1',\n",
    " 'HIT',\n",
    "                   # Above: Information about the donor\n",
    "                   # Below: About the number of times the donor has responded to other types of mail order offers\n",
    " 'MBCRAFT',\n",
    " 'MBGARDEN',\n",
    " 'MBBOOKS',\n",
    " 'MBCOLECT',\n",
    " 'MAGFAML',\n",
    " 'MAGFEM',\n",
    " 'MAGMALE',\n",
    " 'PUBGARDN',\n",
    " 'PUBCULIN',\n",
    " 'PUBHLTH',\n",
    " 'PUBDOITY',\n",
    " 'PUBNEWFN',\n",
    " 'PUBPHOTO',\n",
    " 'PUBOPP',\n",
    "                   # Below: Data from third party regarding the household or neighborhood (According to David Silva) \n",
    " 'MALEMILI',\n",
    " 'MALEVET',\n",
    " 'VIETVETS',\n",
    " 'WWIIVETS',\n",
    " 'LOCALGOV',\n",
    " 'STATEGOV',\n",
    " 'FEDGOV',         \n",
    " 'SOLP3',\n",
    " 'SOLIH',\n",
    " 'WEALTH2',\n",
    "                   # Below: About donor's neighbourhood\n",
    " 'POP901',\n",
    " 'POP902',\n",
    " 'POP903',\n",
    " 'POP90C1',\n",
    " 'POP90C2',\n",
    " 'POP90C3',\n",
    " 'POP90C4',\n",
    " 'POP90C5',\n",
    " 'ETH1',\n",
    " 'ETH2',\n",
    " 'ETH3',\n",
    " 'ETH4',\n",
    " 'ETH5',\n",
    " 'ETH6',\n",
    " 'ETH7',\n",
    " 'ETH8',\n",
    " 'ETH9',\n",
    " 'ETH10',\n",
    " 'ETH11',\n",
    " 'ETH12',\n",
    " 'ETH13',\n",
    " 'ETH14',\n",
    " 'ETH15',\n",
    " 'ETH16',              \n",
    " 'AGE901',\n",
    " 'AGE902',\n",
    " 'AGE903',\n",
    " 'AGE904',\n",
    " 'AGE905',\n",
    " 'AGE906',\n",
    " 'AGE907',\n",
    " 'CHIL1',\n",
    " 'CHIL2',\n",
    " 'CHIL3',\n",
    " 'AGEC1',\n",
    " 'AGEC2',\n",
    " 'AGEC3',\n",
    " 'AGEC4',\n",
    " 'AGEC5',\n",
    " 'AGEC6',\n",
    " 'AGEC7',\n",
    " 'CHILC1',\n",
    " 'CHILC2',\n",
    " 'CHILC3',\n",
    " 'CHILC4',\n",
    " 'CHILC5',\n",
    " 'HHAGE1',\n",
    " 'HHAGE2',\n",
    " 'HHAGE3',\n",
    " 'HHN1',\n",
    " 'HHN2',\n",
    " 'HHN3',\n",
    " 'HHN4',\n",
    " 'HHN5',\n",
    " 'HHN6',\n",
    " 'MARR1',\n",
    " 'MARR2',\n",
    " 'MARR3',\n",
    " 'MARR4',           \n",
    " 'HHP1',\n",
    " 'HHP2',\n",
    " 'DW1',\n",
    " 'DW2',\n",
    " 'DW3',\n",
    " 'DW4',\n",
    " 'DW5',\n",
    " 'DW6',\n",
    " 'DW7',\n",
    " 'DW8',\n",
    " 'DW9',\n",
    " 'HV1',\n",
    " 'HV2',\n",
    " 'HV3',\n",
    " 'HV4',\n",
    " 'HU1',\n",
    " 'HU2',\n",
    " 'HU3',\n",
    " 'HU4',\n",
    " 'HU5',                  \n",
    " 'HHD1',\n",
    " 'HHD2',\n",
    " 'HHD3',\n",
    " 'HHD4',\n",
    " 'HHD5',\n",
    " 'HHD6',\n",
    " 'HHD7',\n",
    " 'HHD8',\n",
    " 'HHD9',\n",
    " 'HHD10',\n",
    " 'HHD11',\n",
    " 'HHD12',\n",
    " 'ETHC1',\n",
    " 'ETHC2',\n",
    " 'ETHC3',\n",
    " 'ETHC4',\n",
    " 'ETHC5',\n",
    " 'ETHC6',\n",
    " 'HVP1',\n",
    " 'HVP2',\n",
    " 'HVP3',\n",
    " 'HVP4',\n",
    " 'HVP5',\n",
    " 'HVP6',                  \n",
    " 'HUR1',\n",
    " 'HUR2',\n",
    " 'RHP1',\n",
    " 'RHP2',\n",
    " 'RHP3',\n",
    " 'RHP4',\n",
    " 'HUPA1',\n",
    " 'HUPA2',\n",
    " 'HUPA3',\n",
    " 'HUPA4',\n",
    " 'HUPA5',\n",
    " 'HUPA6',\n",
    " 'HUPA7',\n",
    " 'RP1',\n",
    " 'RP2',\n",
    " 'RP3',\n",
    " 'RP4',                 \n",
    " 'IC1',\n",
    " 'IC2',\n",
    " 'IC3',\n",
    " 'IC4',\n",
    " 'IC5',\n",
    " 'IC6',\n",
    " 'IC7',\n",
    " 'IC8',\n",
    " 'IC9',\n",
    " 'IC10',\n",
    " 'IC11',\n",
    " 'IC12',\n",
    " 'IC13',\n",
    " 'IC14',\n",
    " 'IC15',\n",
    " 'IC16',\n",
    " 'IC17',\n",
    " 'IC18',\n",
    " 'IC19',\n",
    " 'IC20',\n",
    " 'IC21',\n",
    " 'IC22',\n",
    " 'IC23',           \n",
    " 'HHAS1',\n",
    " 'HHAS2',\n",
    " 'HHAS3',\n",
    " 'HHAS4',\n",
    " 'MC1',\n",
    " 'MC2',\n",
    " 'MC3',\n",
    " 'TPE1',\n",
    " 'TPE2',\n",
    " 'TPE3',\n",
    " 'TPE4',\n",
    " 'TPE5',\n",
    " 'TPE6',\n",
    " 'TPE7',\n",
    " 'TPE8',\n",
    " 'TPE9',\n",
    " 'PEC1',\n",
    " 'PEC2',\n",
    " 'TPE10',\n",
    " 'TPE11',\n",
    " 'TPE12',\n",
    " 'TPE13',\n",
    " 'LFC1',\n",
    " 'LFC2',\n",
    " 'LFC3',\n",
    " 'LFC4',\n",
    " 'LFC5',\n",
    " 'LFC6',\n",
    " 'LFC7',\n",
    " 'LFC8',\n",
    " 'LFC9',\n",
    " 'LFC10',\n",
    " 'OCC1',\n",
    " 'OCC2',\n",
    " 'OCC3',\n",
    " 'OCC4',\n",
    " 'OCC5',\n",
    " 'OCC6',\n",
    " 'OCC7',\n",
    " 'OCC8',\n",
    " 'OCC9',\n",
    " 'OCC10',\n",
    " 'OCC11',\n",
    " 'OCC12',\n",
    " 'OCC13',\n",
    " 'EIC1',\n",
    " 'EIC2',\n",
    " 'EIC3',\n",
    " 'EIC4',\n",
    " 'EIC5',\n",
    " 'EIC6',\n",
    " 'EIC7',\n",
    " 'EIC8',\n",
    " 'EIC9',\n",
    " 'EIC10',\n",
    " 'EIC11',\n",
    " 'EIC12',\n",
    " 'EIC13',\n",
    " 'EIC14',\n",
    " 'EIC15',\n",
    " 'EIC16',\n",
    " 'OEDC1',\n",
    " 'OEDC2',\n",
    " 'OEDC3',\n",
    " 'OEDC4',\n",
    " 'OEDC5',\n",
    " 'OEDC6',\n",
    " 'OEDC7',\n",
    " 'EC1',\n",
    " 'EC2',\n",
    " 'EC3',\n",
    " 'EC4',\n",
    " 'EC5',\n",
    " 'EC6',\n",
    " 'EC7',\n",
    " 'EC8',\n",
    " 'SEC1',\n",
    " 'SEC2',\n",
    " 'SEC3',\n",
    " 'SEC4',\n",
    " 'SEC5',\n",
    " 'AFC1',\n",
    " 'AFC2',\n",
    " 'AFC3',\n",
    " 'AFC4',\n",
    " 'AFC5',\n",
    " 'AFC6',\n",
    " 'VC1',\n",
    " 'VC2',\n",
    " 'VC3',\n",
    " 'VC4',\n",
    " 'ANC1',\n",
    " 'ANC2',\n",
    " 'ANC3',\n",
    " 'ANC4',\n",
    " 'ANC5',\n",
    " 'ANC6',\n",
    " 'ANC7',\n",
    " 'ANC8',\n",
    " 'ANC9',\n",
    " 'ANC10',\n",
    " 'ANC11',\n",
    " 'ANC12',\n",
    " 'ANC13',\n",
    " 'ANC14',\n",
    " 'ANC15',\n",
    " 'POBC1',\n",
    " 'POBC2',\n",
    " 'LSC1',\n",
    " 'LSC2',\n",
    " 'LSC3',\n",
    " 'LSC4',\n",
    " 'VOC1',\n",
    " 'VOC2',\n",
    " 'VOC3',\n",
    " 'HC1',\n",
    " 'HC2',\n",
    " 'HC3',\n",
    " 'HC4',\n",
    " 'HC5',\n",
    " 'HC6',\n",
    " 'HC7',\n",
    " 'HC8',\n",
    " 'HC9',\n",
    " 'HC10',\n",
    " 'HC11',\n",
    " 'HC12',\n",
    " 'HC13',\n",
    " 'HC14',\n",
    " 'HC15',\n",
    " 'HC16',\n",
    " 'HC17',\n",
    " 'HC18',\n",
    " 'HC19',\n",
    " 'HC20',\n",
    " 'HC21',\n",
    " 'MHUC1',\n",
    " 'MHUC2',\n",
    " 'AC1',\n",
    " 'AC2',\n",
    "                   # Above: About donor's neighbourhood      \n",
    "                   # Below: Date promotion X was mailed\n",
    " 'ADATE_2',\n",
    " 'ADATE_3',\n",
    " 'ADATE_4',\n",
    " 'ADATE_5',\n",
    " 'ADATE_6',\n",
    " 'ADATE_7',\n",
    " 'ADATE_8',\n",
    " 'ADATE_9',\n",
    " 'ADATE_10',\n",
    " 'ADATE_11',\n",
    " 'ADATE_12',\n",
    " 'ADATE_13',\n",
    " 'ADATE_14',\n",
    " 'ADATE_15',\n",
    " 'ADATE_16',\n",
    " 'ADATE_17',\n",
    " 'ADATE_18',\n",
    " 'ADATE_19',\n",
    " 'ADATE_20',\n",
    " 'ADATE_21',\n",
    " 'ADATE_22',\n",
    " 'ADATE_23',\n",
    " 'ADATE_24',\n",
    "                   # Below: Information about how many promotions donor has received\n",
    " 'CARDPROM',\n",
    " 'MAXADATE',\n",
    " 'NUMPROM',\n",
    " 'CARDPM12',\n",
    " 'NUMPRM12',\n",
    "                   # Below: Date the donation was received\n",
    " 'RDATE_3',\n",
    " 'RDATE_4',\n",
    " 'RDATE_5',\n",
    " 'RDATE_6',\n",
    " 'RDATE_7',\n",
    " 'RDATE_8',\n",
    " 'RDATE_9',\n",
    " 'RDATE_10',\n",
    " 'RDATE_11',\n",
    " 'RDATE_12',\n",
    " 'RDATE_13',\n",
    " 'RDATE_14',\n",
    " 'RDATE_15',\n",
    " 'RDATE_16',\n",
    " 'RDATE_17',\n",
    " 'RDATE_18',\n",
    " 'RDATE_19',\n",
    " 'RDATE_20',\n",
    " 'RDATE_21',\n",
    " 'RDATE_22',\n",
    " 'RDATE_23',\n",
    " 'RDATE_24',\n",
    "                   # Below: Dollar amount of the donation\n",
    " 'RAMNT_3',\n",
    " 'RAMNT_4',\n",
    " 'RAMNT_5',\n",
    " 'RAMNT_6',\n",
    " 'RAMNT_7',\n",
    " 'RAMNT_8',\n",
    " 'RAMNT_9',\n",
    " 'RAMNT_10',\n",
    " 'RAMNT_11',\n",
    " 'RAMNT_12',\n",
    " 'RAMNT_13',\n",
    " 'RAMNT_14',\n",
    " 'RAMNT_15',\n",
    " 'RAMNT_16',\n",
    " 'RAMNT_17',\n",
    " 'RAMNT_18',\n",
    " 'RAMNT_19',\n",
    " 'RAMNT_20',\n",
    " 'RAMNT_21',\n",
    " 'RAMNT_22',\n",
    " 'RAMNT_23',\n",
    " 'RAMNT_24',\n",
    "                   # Below: Summary variables for this donor\n",
    " 'RAMNTALL',\n",
    " 'NGIFTALL',\n",
    " 'CARDGIFT',\n",
    " 'MINRAMNT',\n",
    " 'MINRDATE',\n",
    " 'MAXRAMNT',\n",
    " 'MAXRDATE',\n",
    " 'LASTGIFT',\n",
    " 'LASTDATE',\n",
    " 'FISTDATE',\n",
    " 'NEXTDATE',\n",
    " 'TIMELAG',\n",
    " 'AVGGIFT']\n",
    "\n",
    "print('Number of metric features:', len(metric_features))"
   ]
  },
  {
   "cell_type": "code",
   "execution_count": 29,
   "metadata": {},
   "outputs": [
    {
     "name": "stdout",
     "output_type": "stream",
     "text": [
      "Number of non-metric features: 77\n"
     ]
    }
   ],
   "source": [
    "# Create a list with the non metrics features by excluding the metric ones\n",
    "non_metric_features = donors.columns.drop(metric_features).to_list()\n",
    "\n",
    "print('Number of non-metric features:', len(non_metric_features))"
   ]
  },
  {
   "cell_type": "markdown",
   "metadata": {},
   "source": [
    "## Convert numerical string columns to float"
   ]
  },
  {
   "cell_type": "code",
   "execution_count": 30,
   "metadata": {},
   "outputs": [],
   "source": [
    "# Get all the data types of metric features, excluding the features defined in 'date_features'\n",
    "dtypes_metric_without_dates = donors[list(set(metric_features) - set(date_features))].dtypes"
   ]
  },
  {
   "cell_type": "code",
   "execution_count": 31,
   "metadata": {},
   "outputs": [
    {
     "data": {
      "text/plain": [
       "SOLP3    object\n",
       "SOLIH    object\n",
       "dtype: object"
      ]
     },
     "execution_count": 31,
     "metadata": {},
     "output_type": "execute_result"
    }
   ],
   "source": [
    "# Get the features from 'dtypes_metric_without_dates' that have type 'object'\n",
    "dtypes_metric_without_dates[dtypes_metric_without_dates=='O']"
   ]
  },
  {
   "cell_type": "code",
   "execution_count": 32,
   "metadata": {},
   "outputs": [],
   "source": [
    "# Define a function to convert numerical String features to float\n",
    "def to_num(df, colname):\n",
    "    \"\"\"This function takes a dataframe and a column name and converts the column with this name to float\"\"\"\n",
    "    \n",
    "    # column = df[colname]\n",
    "    # col_index = df.columns.get_loc(colname)\n",
    "    \n",
    "    df[colname] = pd.to_numeric(df[colname],errors='coerce')"
   ]
  },
  {
   "cell_type": "code",
   "execution_count": 33,
   "metadata": {},
   "outputs": [
    {
     "data": {
      "text/plain": [
       "array([nan, '12', '01', '00', '02'], dtype=object)"
      ]
     },
     "execution_count": 33,
     "metadata": {},
     "output_type": "execute_result"
    }
   ],
   "source": [
    "# Show unique values of 'SOLP3'\n",
    "pd.unique(donors['SOLP3'])"
   ]
  },
  {
   "cell_type": "code",
   "execution_count": 34,
   "metadata": {},
   "outputs": [
    {
     "data": {
      "text/plain": [
       "array([nan, '12', '02', '00', '01', '06', '04', '03'], dtype=object)"
      ]
     },
     "execution_count": 34,
     "metadata": {},
     "output_type": "execute_result"
    }
   ],
   "source": [
    "# Show unique values of 'SOLIH'\n",
    "pd.unique(donors['SOLIH'])"
   ]
  },
  {
   "cell_type": "code",
   "execution_count": 35,
   "metadata": {},
   "outputs": [
    {
     "name": "stderr",
     "output_type": "stream",
     "text": [
      "<ipython-input-32-8b67fbe963ee>:8: SettingWithCopyWarning: \n",
      "A value is trying to be set on a copy of a slice from a DataFrame.\n",
      "Try using .loc[row_indexer,col_indexer] = value instead\n",
      "\n",
      "See the caveats in the documentation: https://pandas.pydata.org/pandas-docs/stable/user_guide/indexing.html#returning-a-view-versus-a-copy\n",
      "  df[colname] = pd.to_numeric(df[colname],errors='coerce')\n"
     ]
    }
   ],
   "source": [
    "# Use 'to_num' on features 'SOLP3' and 'SOLIH'\n",
    "to_num(donors, 'SOLP3')\n",
    "to_num(donors, 'SOLIH')"
   ]
  },
  {
   "cell_type": "code",
   "execution_count": 36,
   "metadata": {},
   "outputs": [
    {
     "data": {
      "text/plain": [
       "array([nan, 12.,  1.,  0.,  2.])"
      ]
     },
     "execution_count": 36,
     "metadata": {},
     "output_type": "execute_result"
    }
   ],
   "source": [
    "# Show the result for 'SOLP3'\n",
    "pd.unique(donors.SOLP3)"
   ]
  },
  {
   "cell_type": "code",
   "execution_count": 37,
   "metadata": {},
   "outputs": [
    {
     "data": {
      "text/plain": [
       "array([nan, 12.,  2.,  0.,  1.,  6.,  4.,  3.])"
      ]
     },
     "execution_count": 37,
     "metadata": {},
     "output_type": "execute_result"
    }
   ],
   "source": [
    "# Show the result for 'SOLIH'\n",
    "pd.unique(donors.SOLIH)"
   ]
  },
  {
   "cell_type": "markdown",
   "metadata": {},
   "source": [
    "## Assess the percentage of nan values of features"
   ]
  },
  {
   "cell_type": "code",
   "execution_count": 39,
   "metadata": {},
   "outputs": [
    {
     "name": "stdout",
     "output_type": "stream",
     "text": [
      "Percentage of nan values for ADATE_6 : 3.728936 %\n"
     ]
    }
   ],
   "source": [
    "# Get the percentage of nan values in a feature\n",
    "feature = 'ADATE_6'\n",
    "print('Percentage of nan values for', feature, ':', round(len(donors[feature][donors[feature].isna()]) / len(donors[feature]) * 100, 6), '%')"
   ]
  }
 ],
 "metadata": {
  "kernelspec": {
   "display_name": "Python 3",
   "language": "python",
   "name": "python3"
  },
  "language_info": {
   "codemirror_mode": {
    "name": "ipython",
    "version": 3
   },
   "file_extension": ".py",
   "mimetype": "text/x-python",
   "name": "python",
   "nbconvert_exporter": "python",
   "pygments_lexer": "ipython3",
   "version": "3.8.5"
  }
 },
 "nbformat": 4,
 "nbformat_minor": 4
}

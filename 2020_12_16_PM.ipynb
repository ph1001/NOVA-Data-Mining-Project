{
 "cells": [
  {
   "cell_type": "markdown",
   "metadata": {},
   "source": [
    "## To Do:\n",
    "- Deal with records that have RDATE before ADATE\n",
    "- (?) (Probably doesn't make sense) Do something with this information (from metadata text file):\n",
    "                            LL mailings had labels only\n",
    "                            WL mailings had labels only\n",
    "                            CC mailings are calendars with stickers but do\n",
    "                               not have labels\n",
    "                            FS mailings are blank cards that fold into\n",
    "                               thirds with labels\n",
    "                            NK mailings are blank cards with labels\n",
    "                            SK mailings are blank cards with labels\n",
    "                            TK mailings have thank you printed on the\n",
    "                               outside with labels\n",
    "                            GK mailings are general greeting cards (an\n",
    "                               assortment of birthday, sympathy, blank, & get\n",
    "                               well) with labels\n",
    "                            XK mailings are Christmas cards with labels\n",
    "                            X1 mailings have labels and a notepad\n",
    "                            G1 mailings have labels and a notepad\n",
    "- Use the variable that is most correlated with 'Age' ('Age' is yet to be created from 'DOB') to fill in the missing values of 'Age' (using a linear model for example)\n",
    "- As a final check for outlier detection, use DBSCAN to see if all outliers were excluded\n",
    "- Henrique's notes:\n",
    "    - I had one note in my notebook we should turn ODATE into number of months for RFA matters maybe and DOB to days\n",
    "        - -> <span style=\"color:red\">Turned all date features into days relative to ADATE_2</span>\n",
    "    - Another one saying that NOEXCH could be remove. Check it out a see if you agree\n",
    "        - <span style=\"color:red\">This one doesn't seem too bad to me so far actually</span>\n",
    "- Decide what to do with 'HOMEOWNR' (Home Owner Flag, H = Home owner, U = Unknown)\n",
    "    - pd.unique(donors.HOMEOWNR) ---> array([nan, 'H', 'U'], dtype=object)\n",
    "    - Could be incuded as: \"Home owner\" = 1, \"No home owner\" = 0, \"Unknown\" = nan\n",
    "    - But does it make sense to use binary variables for clustering?\n",
    "- What was done in the \"clustering\" lab: Use DBSCAN to remove outliers. Do the clustering on the inliers. Then in the end add each outlier to the closest cluster."
   ]
  },
  {
   "cell_type": "markdown",
   "metadata": {},
   "source": [
    "## <span style=\"color:red\">Insights from the Q&A on Thursday, 10. Dec. 2020:</span>\n",
    "\n",
    "<span style=\"color:red\">**See text file \"Notes Q&A 10. Dec. 2020\" in folder \"PDFs and notes\"**</span>"
   ]
  },
  {
   "cell_type": "markdown",
   "metadata": {},
   "source": [
    "## Import libraries"
   ]
  },
  {
   "cell_type": "code",
   "execution_count": 82,
   "metadata": {},
   "outputs": [],
   "source": [
    "import pandas as pd\n",
    "import os\n",
    "import numpy as np\n",
    "import datetime\n",
    "import dateutil.relativedelta\n",
    "from datetime import date\n",
    "import math\n",
    "import seaborn as sns\n",
    "from pandas_profiling import ProfileReport\n",
    "import matplotlib.pyplot as plt\n",
    "from math import ceil\n",
    "\n",
    "%matplotlib inline\n",
    "\n",
    "# for better resolution plots\n",
    "%config InlineBackend.figure_format = 'retina' # optionally, you can change 'svg' to 'retina'\n",
    "\n",
    "# Seeting seaborn style\n",
    "sns.set()"
   ]
  },
  {
   "cell_type": "code",
   "execution_count": 2,
   "metadata": {},
   "outputs": [],
   "source": [
    "# Turn off warnings\n",
    "import sys\n",
    "import warnings\n",
    "\n",
    "if not sys.warnoptions:\n",
    "    warnings.simplefilter(\"ignore\")"
   ]
  },
  {
   "cell_type": "markdown",
   "metadata": {},
   "source": [
    "## Load data"
   ]
  },
  {
   "cell_type": "code",
   "execution_count": 3,
   "metadata": {},
   "outputs": [],
   "source": [
    "# Load data\n",
    "donors = pd.read_csv(os.path.join('Data and metadata', 'donors.csv'), sep=',', index_col=0)"
   ]
  },
  {
   "cell_type": "code",
   "execution_count": 4,
   "metadata": {},
   "outputs": [
    {
     "data": {
      "text/html": [
       "<div>\n",
       "<style scoped>\n",
       "    .dataframe tbody tr th:only-of-type {\n",
       "        vertical-align: middle;\n",
       "    }\n",
       "\n",
       "    .dataframe tbody tr th {\n",
       "        vertical-align: top;\n",
       "    }\n",
       "\n",
       "    .dataframe thead th {\n",
       "        text-align: right;\n",
       "    }\n",
       "</style>\n",
       "<table border=\"1\" class=\"dataframe\">\n",
       "  <thead>\n",
       "    <tr style=\"text-align: right;\">\n",
       "      <th></th>\n",
       "      <th>ODATEDW</th>\n",
       "      <th>OSOURCE</th>\n",
       "      <th>TCODE</th>\n",
       "      <th>STATE</th>\n",
       "      <th>ZIP</th>\n",
       "      <th>MAILCODE</th>\n",
       "      <th>PVASTATE</th>\n",
       "      <th>DOB</th>\n",
       "      <th>NOEXCH</th>\n",
       "      <th>RECINHSE</th>\n",
       "      <th>...</th>\n",
       "      <th>AVGGIFT</th>\n",
       "      <th>CONTROLN</th>\n",
       "      <th>HPHONE_D</th>\n",
       "      <th>RFA_2R</th>\n",
       "      <th>RFA_2F</th>\n",
       "      <th>RFA_2A</th>\n",
       "      <th>MDMAUD_R</th>\n",
       "      <th>MDMAUD_F</th>\n",
       "      <th>MDMAUD_A</th>\n",
       "      <th>GEOCODE2</th>\n",
       "    </tr>\n",
       "  </thead>\n",
       "  <tbody>\n",
       "    <tr>\n",
       "      <th>0</th>\n",
       "      <td>2009-01-01</td>\n",
       "      <td>GRI</td>\n",
       "      <td>0</td>\n",
       "      <td>IL</td>\n",
       "      <td>61081</td>\n",
       "      <td></td>\n",
       "      <td></td>\n",
       "      <td>1957-12-01</td>\n",
       "      <td>0</td>\n",
       "      <td></td>\n",
       "      <td>...</td>\n",
       "      <td>7.741935</td>\n",
       "      <td>95515</td>\n",
       "      <td>0</td>\n",
       "      <td>L</td>\n",
       "      <td>4</td>\n",
       "      <td>E</td>\n",
       "      <td>X</td>\n",
       "      <td>X</td>\n",
       "      <td>X</td>\n",
       "      <td>C</td>\n",
       "    </tr>\n",
       "    <tr>\n",
       "      <th>1</th>\n",
       "      <td>2014-01-01</td>\n",
       "      <td>BOA</td>\n",
       "      <td>1</td>\n",
       "      <td>CA</td>\n",
       "      <td>91326</td>\n",
       "      <td></td>\n",
       "      <td></td>\n",
       "      <td>1972-02-01</td>\n",
       "      <td>0</td>\n",
       "      <td></td>\n",
       "      <td>...</td>\n",
       "      <td>15.666667</td>\n",
       "      <td>148535</td>\n",
       "      <td>0</td>\n",
       "      <td>L</td>\n",
       "      <td>2</td>\n",
       "      <td>G</td>\n",
       "      <td>X</td>\n",
       "      <td>X</td>\n",
       "      <td>X</td>\n",
       "      <td>A</td>\n",
       "    </tr>\n",
       "    <tr>\n",
       "      <th>2</th>\n",
       "      <td>2010-01-01</td>\n",
       "      <td>AMH</td>\n",
       "      <td>1</td>\n",
       "      <td>NC</td>\n",
       "      <td>27017</td>\n",
       "      <td></td>\n",
       "      <td></td>\n",
       "      <td>NaN</td>\n",
       "      <td>0</td>\n",
       "      <td></td>\n",
       "      <td>...</td>\n",
       "      <td>7.481481</td>\n",
       "      <td>15078</td>\n",
       "      <td>1</td>\n",
       "      <td>L</td>\n",
       "      <td>4</td>\n",
       "      <td>E</td>\n",
       "      <td>X</td>\n",
       "      <td>X</td>\n",
       "      <td>X</td>\n",
       "      <td>C</td>\n",
       "    </tr>\n",
       "    <tr>\n",
       "      <th>3</th>\n",
       "      <td>2007-01-01</td>\n",
       "      <td>BRY</td>\n",
       "      <td>0</td>\n",
       "      <td>CA</td>\n",
       "      <td>95953</td>\n",
       "      <td></td>\n",
       "      <td></td>\n",
       "      <td>1948-01-01</td>\n",
       "      <td>0</td>\n",
       "      <td></td>\n",
       "      <td>...</td>\n",
       "      <td>6.812500</td>\n",
       "      <td>172556</td>\n",
       "      <td>1</td>\n",
       "      <td>L</td>\n",
       "      <td>4</td>\n",
       "      <td>E</td>\n",
       "      <td>X</td>\n",
       "      <td>X</td>\n",
       "      <td>X</td>\n",
       "      <td>C</td>\n",
       "    </tr>\n",
       "    <tr>\n",
       "      <th>4</th>\n",
       "      <td>2006-01-01</td>\n",
       "      <td></td>\n",
       "      <td>0</td>\n",
       "      <td>FL</td>\n",
       "      <td>33176</td>\n",
       "      <td></td>\n",
       "      <td></td>\n",
       "      <td>1940-01-01</td>\n",
       "      <td>0</td>\n",
       "      <td>X</td>\n",
       "      <td>...</td>\n",
       "      <td>6.864865</td>\n",
       "      <td>7112</td>\n",
       "      <td>1</td>\n",
       "      <td>L</td>\n",
       "      <td>2</td>\n",
       "      <td>F</td>\n",
       "      <td>X</td>\n",
       "      <td>X</td>\n",
       "      <td>X</td>\n",
       "      <td>A</td>\n",
       "    </tr>\n",
       "    <tr>\n",
       "      <th>...</th>\n",
       "      <td>...</td>\n",
       "      <td>...</td>\n",
       "      <td>...</td>\n",
       "      <td>...</td>\n",
       "      <td>...</td>\n",
       "      <td>...</td>\n",
       "      <td>...</td>\n",
       "      <td>...</td>\n",
       "      <td>...</td>\n",
       "      <td>...</td>\n",
       "      <td>...</td>\n",
       "      <td>...</td>\n",
       "      <td>...</td>\n",
       "      <td>...</td>\n",
       "      <td>...</td>\n",
       "      <td>...</td>\n",
       "      <td>...</td>\n",
       "      <td>...</td>\n",
       "      <td>...</td>\n",
       "      <td>...</td>\n",
       "      <td>...</td>\n",
       "    </tr>\n",
       "    <tr>\n",
       "      <th>95407</th>\n",
       "      <td>2016-01-01</td>\n",
       "      <td>ASE</td>\n",
       "      <td>1</td>\n",
       "      <td>AK</td>\n",
       "      <td>99504</td>\n",
       "      <td></td>\n",
       "      <td></td>\n",
       "      <td>NaN</td>\n",
       "      <td>0</td>\n",
       "      <td></td>\n",
       "      <td>...</td>\n",
       "      <td>25.000000</td>\n",
       "      <td>184568</td>\n",
       "      <td>0</td>\n",
       "      <td>L</td>\n",
       "      <td>1</td>\n",
       "      <td>G</td>\n",
       "      <td>X</td>\n",
       "      <td>X</td>\n",
       "      <td>X</td>\n",
       "      <td>C</td>\n",
       "    </tr>\n",
       "    <tr>\n",
       "      <th>95408</th>\n",
       "      <td>2016-01-01</td>\n",
       "      <td>DCD</td>\n",
       "      <td>1</td>\n",
       "      <td>TX</td>\n",
       "      <td>77379</td>\n",
       "      <td></td>\n",
       "      <td></td>\n",
       "      <td>1970-01-01</td>\n",
       "      <td>0</td>\n",
       "      <td></td>\n",
       "      <td>...</td>\n",
       "      <td>20.000000</td>\n",
       "      <td>122706</td>\n",
       "      <td>1</td>\n",
       "      <td>L</td>\n",
       "      <td>1</td>\n",
       "      <td>F</td>\n",
       "      <td>X</td>\n",
       "      <td>X</td>\n",
       "      <td>X</td>\n",
       "      <td>A</td>\n",
       "    </tr>\n",
       "    <tr>\n",
       "      <th>95409</th>\n",
       "      <td>2015-01-01</td>\n",
       "      <td>MBC</td>\n",
       "      <td>1</td>\n",
       "      <td>MI</td>\n",
       "      <td>48910</td>\n",
       "      <td></td>\n",
       "      <td></td>\n",
       "      <td>1958-01-01</td>\n",
       "      <td>0</td>\n",
       "      <td></td>\n",
       "      <td>...</td>\n",
       "      <td>8.285714</td>\n",
       "      <td>189641</td>\n",
       "      <td>1</td>\n",
       "      <td>L</td>\n",
       "      <td>3</td>\n",
       "      <td>E</td>\n",
       "      <td>X</td>\n",
       "      <td>X</td>\n",
       "      <td>X</td>\n",
       "      <td>B</td>\n",
       "    </tr>\n",
       "    <tr>\n",
       "      <th>95410</th>\n",
       "      <td>2006-01-01</td>\n",
       "      <td>PRV</td>\n",
       "      <td>0</td>\n",
       "      <td>CA</td>\n",
       "      <td>91320</td>\n",
       "      <td></td>\n",
       "      <td></td>\n",
       "      <td>1960-05-01</td>\n",
       "      <td>0</td>\n",
       "      <td>X</td>\n",
       "      <td>...</td>\n",
       "      <td>12.146341</td>\n",
       "      <td>4693</td>\n",
       "      <td>1</td>\n",
       "      <td>L</td>\n",
       "      <td>4</td>\n",
       "      <td>F</td>\n",
       "      <td>X</td>\n",
       "      <td>X</td>\n",
       "      <td>X</td>\n",
       "      <td>A</td>\n",
       "    </tr>\n",
       "    <tr>\n",
       "      <th>95411</th>\n",
       "      <td>2008-01-01</td>\n",
       "      <td>MCC</td>\n",
       "      <td>2</td>\n",
       "      <td>NC</td>\n",
       "      <td>28409</td>\n",
       "      <td></td>\n",
       "      <td></td>\n",
       "      <td>1938-01-01</td>\n",
       "      <td>0</td>\n",
       "      <td>X</td>\n",
       "      <td>...</td>\n",
       "      <td>96.794872</td>\n",
       "      <td>185114</td>\n",
       "      <td>1</td>\n",
       "      <td>L</td>\n",
       "      <td>1</td>\n",
       "      <td>G</td>\n",
       "      <td>C</td>\n",
       "      <td>1</td>\n",
       "      <td>C</td>\n",
       "      <td>C</td>\n",
       "    </tr>\n",
       "  </tbody>\n",
       "</table>\n",
       "<p>95412 rows × 475 columns</p>\n",
       "</div>"
      ],
      "text/plain": [
       "          ODATEDW OSOURCE  TCODE STATE    ZIP MAILCODE PVASTATE         DOB  \\\n",
       "0      2009-01-01     GRI      0    IL  61081                    1957-12-01   \n",
       "1      2014-01-01     BOA      1    CA  91326                    1972-02-01   \n",
       "2      2010-01-01     AMH      1    NC  27017                           NaN   \n",
       "3      2007-01-01     BRY      0    CA  95953                    1948-01-01   \n",
       "4      2006-01-01              0    FL  33176                    1940-01-01   \n",
       "...           ...     ...    ...   ...    ...      ...      ...         ...   \n",
       "95407  2016-01-01     ASE      1    AK  99504                           NaN   \n",
       "95408  2016-01-01     DCD      1    TX  77379                    1970-01-01   \n",
       "95409  2015-01-01     MBC      1    MI  48910                    1958-01-01   \n",
       "95410  2006-01-01     PRV      0    CA  91320                    1960-05-01   \n",
       "95411  2008-01-01     MCC      2    NC  28409                    1938-01-01   \n",
       "\n",
       "      NOEXCH RECINHSE  ...    AVGGIFT CONTROLN HPHONE_D RFA_2R RFA_2F RFA_2A  \\\n",
       "0          0           ...   7.741935    95515        0      L      4      E   \n",
       "1          0           ...  15.666667   148535        0      L      2      G   \n",
       "2          0           ...   7.481481    15078        1      L      4      E   \n",
       "3          0           ...   6.812500   172556        1      L      4      E   \n",
       "4          0        X  ...   6.864865     7112        1      L      2      F   \n",
       "...      ...      ...  ...        ...      ...      ...    ...    ...    ...   \n",
       "95407      0           ...  25.000000   184568        0      L      1      G   \n",
       "95408      0           ...  20.000000   122706        1      L      1      F   \n",
       "95409      0           ...   8.285714   189641        1      L      3      E   \n",
       "95410      0        X  ...  12.146341     4693        1      L      4      F   \n",
       "95411      0        X  ...  96.794872   185114        1      L      1      G   \n",
       "\n",
       "      MDMAUD_R MDMAUD_F MDMAUD_A GEOCODE2  \n",
       "0            X        X        X        C  \n",
       "1            X        X        X        A  \n",
       "2            X        X        X        C  \n",
       "3            X        X        X        C  \n",
       "4            X        X        X        A  \n",
       "...        ...      ...      ...      ...  \n",
       "95407        X        X        X        C  \n",
       "95408        X        X        X        A  \n",
       "95409        X        X        X        B  \n",
       "95410        X        X        X        A  \n",
       "95411        C        1        C        C  \n",
       "\n",
       "[95412 rows x 475 columns]"
      ]
     },
     "execution_count": 4,
     "metadata": {},
     "output_type": "execute_result"
    }
   ],
   "source": [
    "donors"
   ]
  },
  {
   "cell_type": "code",
   "execution_count": 5,
   "metadata": {},
   "outputs": [],
   "source": [
    "# Save the original features in a list\n",
    "features_orig = list(donors)"
   ]
  },
  {
   "cell_type": "markdown",
   "metadata": {},
   "source": [
    "## Code for checking the types of all elements of a column"
   ]
  },
  {
   "cell_type": "code",
   "execution_count": 6,
   "metadata": {},
   "outputs": [
    {
     "name": "stdout",
     "output_type": "stream",
     "text": [
      "Types present in this feature:\n",
      "{<class 'str'>}\n",
      "Items that have type <class 'float'> :\n",
      "[]\n"
     ]
    }
   ],
   "source": [
    "feature = 'ADATE_2'\n",
    "type_items_to_retieve = float\n",
    "type_set = set()\n",
    "list_ = []\n",
    "for item in donors[feature]:\n",
    "    type_ = type(item)\n",
    "    type_set.add(type_)\n",
    "    if type_ == type_items_to_retieve:\n",
    "        list_.append(item)\n",
    "print('Types present in this feature:')\n",
    "print(type_set)\n",
    "print('Items that have type', type_items_to_retieve, ':')\n",
    "print(pd.unique(list_))"
   ]
  },
  {
   "cell_type": "markdown",
   "metadata": {},
   "source": [
    "## Separate metric features from non-metric features"
   ]
  },
  {
   "cell_type": "code",
   "execution_count": 7,
   "metadata": {},
   "outputs": [
    {
     "data": {
      "text/html": [
       "<div>\n",
       "<style scoped>\n",
       "    .dataframe tbody tr th:only-of-type {\n",
       "        vertical-align: middle;\n",
       "    }\n",
       "\n",
       "    .dataframe tbody tr th {\n",
       "        vertical-align: top;\n",
       "    }\n",
       "\n",
       "    .dataframe thead th {\n",
       "        text-align: right;\n",
       "    }\n",
       "</style>\n",
       "<table border=\"1\" class=\"dataframe\">\n",
       "  <thead>\n",
       "    <tr style=\"text-align: right;\">\n",
       "      <th></th>\n",
       "      <th>ODATEDW</th>\n",
       "      <th>OSOURCE</th>\n",
       "      <th>TCODE</th>\n",
       "      <th>STATE</th>\n",
       "      <th>ZIP</th>\n",
       "      <th>MAILCODE</th>\n",
       "      <th>PVASTATE</th>\n",
       "      <th>DOB</th>\n",
       "      <th>NOEXCH</th>\n",
       "      <th>RECINHSE</th>\n",
       "      <th>...</th>\n",
       "      <th>AVGGIFT</th>\n",
       "      <th>CONTROLN</th>\n",
       "      <th>HPHONE_D</th>\n",
       "      <th>RFA_2R</th>\n",
       "      <th>RFA_2F</th>\n",
       "      <th>RFA_2A</th>\n",
       "      <th>MDMAUD_R</th>\n",
       "      <th>MDMAUD_F</th>\n",
       "      <th>MDMAUD_A</th>\n",
       "      <th>GEOCODE2</th>\n",
       "    </tr>\n",
       "  </thead>\n",
       "  <tbody>\n",
       "    <tr>\n",
       "      <th>0</th>\n",
       "      <td>2009-01-01</td>\n",
       "      <td>GRI</td>\n",
       "      <td>0</td>\n",
       "      <td>IL</td>\n",
       "      <td>61081</td>\n",
       "      <td></td>\n",
       "      <td></td>\n",
       "      <td>1957-12-01</td>\n",
       "      <td>0</td>\n",
       "      <td></td>\n",
       "      <td>...</td>\n",
       "      <td>7.741935</td>\n",
       "      <td>95515</td>\n",
       "      <td>0</td>\n",
       "      <td>L</td>\n",
       "      <td>4</td>\n",
       "      <td>E</td>\n",
       "      <td>X</td>\n",
       "      <td>X</td>\n",
       "      <td>X</td>\n",
       "      <td>C</td>\n",
       "    </tr>\n",
       "    <tr>\n",
       "      <th>1</th>\n",
       "      <td>2014-01-01</td>\n",
       "      <td>BOA</td>\n",
       "      <td>1</td>\n",
       "      <td>CA</td>\n",
       "      <td>91326</td>\n",
       "      <td></td>\n",
       "      <td></td>\n",
       "      <td>1972-02-01</td>\n",
       "      <td>0</td>\n",
       "      <td></td>\n",
       "      <td>...</td>\n",
       "      <td>15.666667</td>\n",
       "      <td>148535</td>\n",
       "      <td>0</td>\n",
       "      <td>L</td>\n",
       "      <td>2</td>\n",
       "      <td>G</td>\n",
       "      <td>X</td>\n",
       "      <td>X</td>\n",
       "      <td>X</td>\n",
       "      <td>A</td>\n",
       "    </tr>\n",
       "    <tr>\n",
       "      <th>2</th>\n",
       "      <td>2010-01-01</td>\n",
       "      <td>AMH</td>\n",
       "      <td>1</td>\n",
       "      <td>NC</td>\n",
       "      <td>27017</td>\n",
       "      <td></td>\n",
       "      <td></td>\n",
       "      <td>NaN</td>\n",
       "      <td>0</td>\n",
       "      <td></td>\n",
       "      <td>...</td>\n",
       "      <td>7.481481</td>\n",
       "      <td>15078</td>\n",
       "      <td>1</td>\n",
       "      <td>L</td>\n",
       "      <td>4</td>\n",
       "      <td>E</td>\n",
       "      <td>X</td>\n",
       "      <td>X</td>\n",
       "      <td>X</td>\n",
       "      <td>C</td>\n",
       "    </tr>\n",
       "    <tr>\n",
       "      <th>3</th>\n",
       "      <td>2007-01-01</td>\n",
       "      <td>BRY</td>\n",
       "      <td>0</td>\n",
       "      <td>CA</td>\n",
       "      <td>95953</td>\n",
       "      <td></td>\n",
       "      <td></td>\n",
       "      <td>1948-01-01</td>\n",
       "      <td>0</td>\n",
       "      <td></td>\n",
       "      <td>...</td>\n",
       "      <td>6.812500</td>\n",
       "      <td>172556</td>\n",
       "      <td>1</td>\n",
       "      <td>L</td>\n",
       "      <td>4</td>\n",
       "      <td>E</td>\n",
       "      <td>X</td>\n",
       "      <td>X</td>\n",
       "      <td>X</td>\n",
       "      <td>C</td>\n",
       "    </tr>\n",
       "    <tr>\n",
       "      <th>4</th>\n",
       "      <td>2006-01-01</td>\n",
       "      <td></td>\n",
       "      <td>0</td>\n",
       "      <td>FL</td>\n",
       "      <td>33176</td>\n",
       "      <td></td>\n",
       "      <td></td>\n",
       "      <td>1940-01-01</td>\n",
       "      <td>0</td>\n",
       "      <td>X</td>\n",
       "      <td>...</td>\n",
       "      <td>6.864865</td>\n",
       "      <td>7112</td>\n",
       "      <td>1</td>\n",
       "      <td>L</td>\n",
       "      <td>2</td>\n",
       "      <td>F</td>\n",
       "      <td>X</td>\n",
       "      <td>X</td>\n",
       "      <td>X</td>\n",
       "      <td>A</td>\n",
       "    </tr>\n",
       "  </tbody>\n",
       "</table>\n",
       "<p>5 rows × 475 columns</p>\n",
       "</div>"
      ],
      "text/plain": [
       "      ODATEDW OSOURCE  TCODE STATE    ZIP MAILCODE PVASTATE         DOB  \\\n",
       "0  2009-01-01     GRI      0    IL  61081                    1957-12-01   \n",
       "1  2014-01-01     BOA      1    CA  91326                    1972-02-01   \n",
       "2  2010-01-01     AMH      1    NC  27017                           NaN   \n",
       "3  2007-01-01     BRY      0    CA  95953                    1948-01-01   \n",
       "4  2006-01-01              0    FL  33176                    1940-01-01   \n",
       "\n",
       "  NOEXCH RECINHSE  ...    AVGGIFT CONTROLN HPHONE_D RFA_2R RFA_2F RFA_2A  \\\n",
       "0      0           ...   7.741935    95515        0      L      4      E   \n",
       "1      0           ...  15.666667   148535        0      L      2      G   \n",
       "2      0           ...   7.481481    15078        1      L      4      E   \n",
       "3      0           ...   6.812500   172556        1      L      4      E   \n",
       "4      0        X  ...   6.864865     7112        1      L      2      F   \n",
       "\n",
       "  MDMAUD_R MDMAUD_F MDMAUD_A GEOCODE2  \n",
       "0        X        X        X        C  \n",
       "1        X        X        X        A  \n",
       "2        X        X        X        C  \n",
       "3        X        X        X        C  \n",
       "4        X        X        X        A  \n",
       "\n",
       "[5 rows x 475 columns]"
      ]
     },
     "execution_count": 7,
     "metadata": {},
     "output_type": "execute_result"
    }
   ],
   "source": [
    "# Look at top of remaining dataset\n",
    "donors.head(5)"
   ]
  },
  {
   "cell_type": "code",
   "execution_count": 8,
   "metadata": {},
   "outputs": [
    {
     "name": "stdout",
     "output_type": "stream",
     "text": [
      "dtype of feature HOMEOWNR : object\n",
      "First non nan element of this feature:  \n",
      "Class of the first element of this feature: <class 'str'>\n",
      "Unique values of feature HOMEOWNR : [' ' 'H' 'U']\n"
     ]
    }
   ],
   "source": [
    "## Obtain information of the type of a certain feature\n",
    "feature = 'HOMEOWNR'\n",
    "\n",
    "# Print its type\n",
    "print('dtype of feature', feature, ':', donors.dtypes[feature])\n",
    "\n",
    "# Take a closer look at the first non nan element of it\n",
    "first_non_na_element = donors[feature][~donors[feature].isna()].iloc[0]\n",
    "print('First non nan element of this feature:', first_non_na_element)\n",
    "print('Class of the first element of this feature:', type(first_non_na_element))\n",
    "\n",
    "# View the unique values of this feature\n",
    "# print('Sorted unique values of feature', feature, ':', np.sort(pd.unique(donors[feature])))\n",
    "print('Unique values of feature', feature, ':', pd.unique(donors[feature]))"
   ]
  },
  {
   "cell_type": "code",
   "execution_count": 9,
   "metadata": {},
   "outputs": [
    {
     "name": "stdout",
     "output_type": "stream",
     "text": [
      "Number of metric features: 398\n"
     ]
    }
   ],
   "source": [
    "# Create a list with the metric features\n",
    "# Including dates and other variables that might still be Strings at this point\n",
    "# Will use 'to_num' on all metric features in the next step\n",
    "metric_features = ['ODATEDW',\n",
    " 'DOB',\n",
    " 'NUMCHLD',\n",
    " 'INCOME',\n",
    " 'WEALTH1',\n",
    " 'HIT',\n",
    "                   # Above: Information about the donor\n",
    "                   # Below: About the number of times the donor has responded to other types of mail order offers\n",
    " 'MBCRAFT',\n",
    " 'MBGARDEN',\n",
    " 'MBBOOKS',\n",
    " 'MBCOLECT',\n",
    " 'MAGFAML',\n",
    " 'MAGFEM',\n",
    " 'MAGMALE',\n",
    " 'PUBGARDN',\n",
    " 'PUBCULIN',\n",
    " 'PUBHLTH',\n",
    " 'PUBDOITY',\n",
    " 'PUBNEWFN',\n",
    " 'PUBPHOTO',\n",
    " 'PUBOPP',\n",
    "                   # Below: Data from third party regarding the household or neighborhood (According to David Silva) \n",
    " 'MALEMILI',\n",
    " 'MALEVET',\n",
    " 'VIETVETS',\n",
    " 'WWIIVETS',\n",
    " 'LOCALGOV',\n",
    " 'STATEGOV',\n",
    " 'FEDGOV',         \n",
    " 'SOLP3',\n",
    " 'SOLIH',\n",
    " 'WEALTH2',\n",
    "                   # Below: About donor's neighbourhood\n",
    " 'POP901',\n",
    " 'POP902',\n",
    " 'POP903',\n",
    " 'POP90C1',\n",
    " 'POP90C2',\n",
    " 'POP90C3',\n",
    " 'POP90C4',\n",
    " 'POP90C5',\n",
    " 'ETH1',\n",
    " 'ETH2',\n",
    " 'ETH3',\n",
    " 'ETH4',\n",
    " 'ETH5',\n",
    " 'ETH6',\n",
    " 'ETH7',\n",
    " 'ETH8',\n",
    " 'ETH9',\n",
    " 'ETH10',\n",
    " 'ETH11',\n",
    " 'ETH12',\n",
    " 'ETH13',\n",
    " 'ETH14',\n",
    " 'ETH15',\n",
    " 'ETH16',              \n",
    " 'AGE901',\n",
    " 'AGE902',\n",
    " 'AGE903',\n",
    " 'AGE904',\n",
    " 'AGE905',\n",
    " 'AGE906',\n",
    " 'AGE907',\n",
    " 'CHIL1',\n",
    " 'CHIL2',\n",
    " 'CHIL3',\n",
    " 'AGEC1',\n",
    " 'AGEC2',\n",
    " 'AGEC3',\n",
    " 'AGEC4',\n",
    " 'AGEC5',\n",
    " 'AGEC6',\n",
    " 'AGEC7',\n",
    " 'CHILC1',\n",
    " 'CHILC2',\n",
    " 'CHILC3',\n",
    " 'CHILC4',\n",
    " 'CHILC5',\n",
    " 'HHAGE1',\n",
    " 'HHAGE2',\n",
    " 'HHAGE3',\n",
    " 'HHN1',\n",
    " 'HHN2',\n",
    " 'HHN3',\n",
    " 'HHN4',\n",
    " 'HHN5',\n",
    " 'HHN6',\n",
    " 'MARR1',\n",
    " 'MARR2',\n",
    " 'MARR3',\n",
    " 'MARR4',           \n",
    " 'HHP1',\n",
    " 'HHP2',\n",
    " 'DW1',\n",
    " 'DW2',\n",
    " 'DW3',\n",
    " 'DW4',\n",
    " 'DW5',\n",
    " 'DW6',\n",
    " 'DW7',\n",
    " 'DW8',\n",
    " 'DW9',\n",
    " 'HV1',\n",
    " 'HV2',\n",
    " 'HV3',\n",
    " 'HV4',\n",
    " 'HU1',\n",
    " 'HU2',\n",
    " 'HU3',\n",
    " 'HU4',\n",
    " 'HU5',                  \n",
    " 'HHD1',\n",
    " 'HHD2',\n",
    " 'HHD3',\n",
    " 'HHD4',\n",
    " 'HHD5',\n",
    " 'HHD6',\n",
    " 'HHD7',\n",
    " 'HHD8',\n",
    " 'HHD9',\n",
    " 'HHD10',\n",
    " 'HHD11',\n",
    " 'HHD12',\n",
    " 'ETHC1',\n",
    " 'ETHC2',\n",
    " 'ETHC3',\n",
    " 'ETHC4',\n",
    " 'ETHC5',\n",
    " 'ETHC6',\n",
    " 'HVP1',\n",
    " 'HVP2',\n",
    " 'HVP3',\n",
    " 'HVP4',\n",
    " 'HVP5',\n",
    " 'HVP6',                  \n",
    " 'HUR1',\n",
    " 'HUR2',\n",
    " 'RHP1',\n",
    " 'RHP2',\n",
    " 'RHP3',\n",
    " 'RHP4',\n",
    " 'HUPA1',\n",
    " 'HUPA2',\n",
    " 'HUPA3',\n",
    " 'HUPA4',\n",
    " 'HUPA5',\n",
    " 'HUPA6',\n",
    " 'HUPA7',\n",
    " 'RP1',\n",
    " 'RP2',\n",
    " 'RP3',\n",
    " 'RP4',                 \n",
    " 'IC1',\n",
    " 'IC2',\n",
    " 'IC3',\n",
    " 'IC4',\n",
    " 'IC5',\n",
    " 'IC6',\n",
    " 'IC7',\n",
    " 'IC8',\n",
    " 'IC9',\n",
    " 'IC10',\n",
    " 'IC11',\n",
    " 'IC12',\n",
    " 'IC13',\n",
    " 'IC14',\n",
    " 'IC15',\n",
    " 'IC16',\n",
    " 'IC17',\n",
    " 'IC18',\n",
    " 'IC19',\n",
    " 'IC20',\n",
    " 'IC21',\n",
    " 'IC22',\n",
    " 'IC23',           \n",
    " 'HHAS1',\n",
    " 'HHAS2',\n",
    " 'HHAS3',\n",
    " 'HHAS4',\n",
    " 'MC1',\n",
    " 'MC2',\n",
    " 'MC3',\n",
    " 'TPE1',\n",
    " 'TPE2',\n",
    " 'TPE3',\n",
    " 'TPE4',\n",
    " 'TPE5',\n",
    " 'TPE6',\n",
    " 'TPE7',\n",
    " 'TPE8',\n",
    " 'TPE9',\n",
    " 'PEC1',\n",
    " 'PEC2',\n",
    " 'TPE10',\n",
    " 'TPE11',\n",
    " 'TPE12',\n",
    " 'TPE13',\n",
    " 'LFC1',\n",
    " 'LFC2',\n",
    " 'LFC3',\n",
    " 'LFC4',\n",
    " 'LFC5',\n",
    " 'LFC6',\n",
    " 'LFC7',\n",
    " 'LFC8',\n",
    " 'LFC9',\n",
    " 'LFC10',\n",
    " 'OCC1',\n",
    " 'OCC2',\n",
    " 'OCC3',\n",
    " 'OCC4',\n",
    " 'OCC5',\n",
    " 'OCC6',\n",
    " 'OCC7',\n",
    " 'OCC8',\n",
    " 'OCC9',\n",
    " 'OCC10',\n",
    " 'OCC11',\n",
    " 'OCC12',\n",
    " 'OCC13',\n",
    " 'EIC1',\n",
    " 'EIC2',\n",
    " 'EIC3',\n",
    " 'EIC4',\n",
    " 'EIC5',\n",
    " 'EIC6',\n",
    " 'EIC7',\n",
    " 'EIC8',\n",
    " 'EIC9',\n",
    " 'EIC10',\n",
    " 'EIC11',\n",
    " 'EIC12',\n",
    " 'EIC13',\n",
    " 'EIC14',\n",
    " 'EIC15',\n",
    " 'EIC16',\n",
    " 'OEDC1',\n",
    " 'OEDC2',\n",
    " 'OEDC3',\n",
    " 'OEDC4',\n",
    " 'OEDC5',\n",
    " 'OEDC6',\n",
    " 'OEDC7',\n",
    " 'EC1',\n",
    " 'EC2',\n",
    " 'EC3',\n",
    " 'EC4',\n",
    " 'EC5',\n",
    " 'EC6',\n",
    " 'EC7',\n",
    " 'EC8',\n",
    " 'SEC1',\n",
    " 'SEC2',\n",
    " 'SEC3',\n",
    " 'SEC4',\n",
    " 'SEC5',\n",
    " 'AFC1',\n",
    " 'AFC2',\n",
    " 'AFC3',\n",
    " 'AFC4',\n",
    " 'AFC5',\n",
    " 'AFC6',\n",
    " 'VC1',\n",
    " 'VC2',\n",
    " 'VC3',\n",
    " 'VC4',\n",
    " 'ANC1',\n",
    " 'ANC2',\n",
    " 'ANC3',\n",
    " 'ANC4',\n",
    " 'ANC5',\n",
    " 'ANC6',\n",
    " 'ANC7',\n",
    " 'ANC8',\n",
    " 'ANC9',\n",
    " 'ANC10',\n",
    " 'ANC11',\n",
    " 'ANC12',\n",
    " 'ANC13',\n",
    " 'ANC14',\n",
    " 'ANC15',\n",
    " 'POBC1',\n",
    " 'POBC2',\n",
    " 'LSC1',\n",
    " 'LSC2',\n",
    " 'LSC3',\n",
    " 'LSC4',\n",
    " 'VOC1',\n",
    " 'VOC2',\n",
    " 'VOC3',\n",
    " 'HC1',\n",
    " 'HC2',\n",
    " 'HC3',\n",
    " 'HC4',\n",
    " 'HC5',\n",
    " 'HC6',\n",
    " 'HC7',\n",
    " 'HC8',\n",
    " 'HC9',\n",
    " 'HC10',\n",
    " 'HC11',\n",
    " 'HC12',\n",
    " 'HC13',\n",
    " 'HC14',\n",
    " 'HC15',\n",
    " 'HC16',\n",
    " 'HC17',\n",
    " 'HC18',\n",
    " 'HC19',\n",
    " 'HC20',\n",
    " 'HC21',\n",
    " 'MHUC1',\n",
    " 'MHUC2',\n",
    " 'AC1',\n",
    " 'AC2',\n",
    "                   # Above: About donor's neighbourhood      \n",
    "                   # Below: Date promotion X was mailed\n",
    " 'ADATE_2',\n",
    " 'ADATE_3',\n",
    " 'ADATE_4',\n",
    " 'ADATE_5',\n",
    " 'ADATE_6',\n",
    " 'ADATE_7',\n",
    " 'ADATE_8',\n",
    " 'ADATE_9',\n",
    " 'ADATE_10',\n",
    " 'ADATE_11',\n",
    " 'ADATE_12',\n",
    " 'ADATE_13',\n",
    " 'ADATE_14',\n",
    " 'ADATE_15',\n",
    " 'ADATE_16',\n",
    " 'ADATE_17',\n",
    " 'ADATE_18',\n",
    " 'ADATE_19',\n",
    " 'ADATE_20',\n",
    " 'ADATE_21',\n",
    " 'ADATE_22',\n",
    " 'ADATE_23',\n",
    " 'ADATE_24',\n",
    "                   # Below: Information about how many promotions donor has received\n",
    " 'CARDPROM',\n",
    " 'MAXADATE',\n",
    " 'NUMPROM',\n",
    " 'CARDPM12',\n",
    " 'NUMPRM12',\n",
    "                   # Below: Date the donation was received\n",
    " 'RDATE_3',\n",
    " 'RDATE_4',\n",
    " 'RDATE_5',\n",
    " 'RDATE_6',\n",
    " 'RDATE_7',\n",
    " 'RDATE_8',\n",
    " 'RDATE_9',\n",
    " 'RDATE_10',\n",
    " 'RDATE_11',\n",
    " 'RDATE_12',\n",
    " 'RDATE_13',\n",
    " 'RDATE_14',\n",
    " 'RDATE_15',\n",
    " 'RDATE_16',\n",
    " 'RDATE_17',\n",
    " 'RDATE_18',\n",
    " 'RDATE_19',\n",
    " 'RDATE_20',\n",
    " 'RDATE_21',\n",
    " 'RDATE_22',\n",
    " 'RDATE_23',\n",
    " 'RDATE_24',\n",
    "                   # Below: Dollar amount of the donation\n",
    " 'RAMNT_3',\n",
    " 'RAMNT_4',\n",
    " 'RAMNT_5',\n",
    " 'RAMNT_6',\n",
    " 'RAMNT_7',\n",
    " 'RAMNT_8',\n",
    " 'RAMNT_9',\n",
    " 'RAMNT_10',\n",
    " 'RAMNT_11',\n",
    " 'RAMNT_12',\n",
    " 'RAMNT_13',\n",
    " 'RAMNT_14',\n",
    " 'RAMNT_15',\n",
    " 'RAMNT_16',\n",
    " 'RAMNT_17',\n",
    " 'RAMNT_18',\n",
    " 'RAMNT_19',\n",
    " 'RAMNT_20',\n",
    " 'RAMNT_21',\n",
    " 'RAMNT_22',\n",
    " 'RAMNT_23',\n",
    " 'RAMNT_24',\n",
    "                   # Below: Summary variables for this donor\n",
    " 'RAMNTALL',\n",
    " 'NGIFTALL',\n",
    " 'CARDGIFT',\n",
    " 'MINRAMNT',\n",
    " 'MINRDATE',\n",
    " 'MAXRAMNT',\n",
    " 'MAXRDATE',\n",
    " 'LASTGIFT',\n",
    " 'LASTDATE',\n",
    " 'FISTDATE',\n",
    " 'NEXTDATE',\n",
    " 'TIMELAG',\n",
    " 'AVGGIFT']\n",
    "\n",
    "print('Number of metric features:', len(metric_features))\n",
    "\n",
    "# Save this oroginal metric features list\n",
    "metric_features_orig = metric_features.copy()"
   ]
  },
  {
   "cell_type": "code",
   "execution_count": 10,
   "metadata": {},
   "outputs": [
    {
     "name": "stdout",
     "output_type": "stream",
     "text": [
      "Number of non-metric features: 77\n"
     ]
    }
   ],
   "source": [
    "# Create a list with the non metrics features by excluding the metric ones\n",
    "non_metric_features = donors.columns.drop(metric_features).to_list()\n",
    "\n",
    "print('Number of non-metric features:', len(non_metric_features))\n",
    "\n",
    "# Save this oroginal metric features list\n",
    "non_metric_features_orig = non_metric_features.copy()"
   ]
  },
  {
   "cell_type": "markdown",
   "metadata": {},
   "source": [
    "## Treat features where \" \" (space) carries a meaning"
   ]
  },
  {
   "cell_type": "markdown",
   "metadata": {},
   "source": [
    "**MAILCODE**"
   ]
  },
  {
   "cell_type": "code",
   "execution_count": 11,
   "metadata": {},
   "outputs": [
    {
     "data": {
      "text/plain": [
       "array([' ', 'B'], dtype=object)"
      ]
     },
     "execution_count": 11,
     "metadata": {},
     "output_type": "execute_result"
    }
   ],
   "source": [
    "feature = 'MAILCODE'\n",
    "pd.unique(donors[feature])"
   ]
  },
  {
   "cell_type": "code",
   "execution_count": 12,
   "metadata": {},
   "outputs": [
    {
     "data": {
      "text/plain": [
       "array(['Address is OK', 'Bad Address'], dtype=object)"
      ]
     },
     "execution_count": 12,
     "metadata": {},
     "output_type": "execute_result"
    }
   ],
   "source": [
    "donors[feature].replace(\" \", \"Address is OK\", inplace=True)\n",
    "donors[feature].replace(\"B\", \"Bad Address\", inplace=True)\n",
    "pd.unique(donors[feature])"
   ]
  },
  {
   "cell_type": "markdown",
   "metadata": {},
   "source": [
    "**NOEXCH**"
   ]
  },
  {
   "cell_type": "code",
   "execution_count": 13,
   "metadata": {},
   "outputs": [
    {
     "data": {
      "text/plain": [
       "array(['0', '1', 'X', 0, 1, ' '], dtype=object)"
      ]
     },
     "execution_count": 13,
     "metadata": {},
     "output_type": "execute_result"
    }
   ],
   "source": [
    "feature = 'NOEXCH'\n",
    "pd.unique(donors[feature])"
   ]
  },
  {
   "cell_type": "code",
   "execution_count": 14,
   "metadata": {},
   "outputs": [
    {
     "data": {
      "text/plain": [
       "array(['can be exchanged', 'do not exchange'], dtype=object)"
      ]
     },
     "execution_count": 14,
     "metadata": {},
     "output_type": "execute_result"
    }
   ],
   "source": [
    "donors[feature].replace(\" \", \"can be exchanged\", inplace=True)\n",
    "donors[feature].replace(\"X\", \"do not exchange\", inplace=True)\n",
    "# Assumption: 1 = do not exchange, 0 = can be exchanged (Makes sense because of the variable name)\n",
    "donors[feature].replace('0', \"can be exchanged\", inplace=True)\n",
    "donors[feature].replace('1', \"do not exchange\", inplace=True)\n",
    "donors[feature].replace(0, \"can be exchanged\", inplace=True)\n",
    "donors[feature].replace(1, \"do not exchange\", inplace=True)\n",
    "pd.unique(donors[feature])"
   ]
  },
  {
   "cell_type": "markdown",
   "metadata": {},
   "source": [
    "**RECINHSE**"
   ]
  },
  {
   "cell_type": "code",
   "execution_count": 15,
   "metadata": {},
   "outputs": [
    {
     "data": {
      "text/plain": [
       "array([' ', 'X'], dtype=object)"
      ]
     },
     "execution_count": 15,
     "metadata": {},
     "output_type": "execute_result"
    }
   ],
   "source": [
    "feature = 'RECINHSE'\n",
    "pd.unique(donors[feature])"
   ]
  },
  {
   "cell_type": "code",
   "execution_count": 16,
   "metadata": {},
   "outputs": [
    {
     "data": {
      "text/plain": [
       "array(['Not an In House Record',\n",
       "       \"Donor has given to PVA's In House program\"], dtype=object)"
      ]
     },
     "execution_count": 16,
     "metadata": {},
     "output_type": "execute_result"
    }
   ],
   "source": [
    "donors[feature].replace(\" \", \"Not an In House Record\", inplace=True)\n",
    "donors[feature].replace(\"X\", \"Donor has given to PVA's In House program\", inplace=True)\n",
    "pd.unique(donors[feature])"
   ]
  },
  {
   "cell_type": "markdown",
   "metadata": {},
   "source": [
    "**RECP3**"
   ]
  },
  {
   "cell_type": "code",
   "execution_count": 17,
   "metadata": {},
   "outputs": [
    {
     "data": {
      "text/plain": [
       "array([' ', 'X'], dtype=object)"
      ]
     },
     "execution_count": 17,
     "metadata": {},
     "output_type": "execute_result"
    }
   ],
   "source": [
    "feature = 'RECP3'\n",
    "pd.unique(donors[feature])"
   ]
  },
  {
   "cell_type": "code",
   "execution_count": 18,
   "metadata": {},
   "outputs": [
    {
     "data": {
      "text/plain": [
       "array(['Not a P3 Record', \"Donor has given to PVA's P3 program\"],\n",
       "      dtype=object)"
      ]
     },
     "execution_count": 18,
     "metadata": {},
     "output_type": "execute_result"
    }
   ],
   "source": [
    "donors[feature].replace(\" \", \"Not a P3 Record\", inplace=True)\n",
    "donors[feature].replace(\"X\", \"Donor has given to PVA's P3 program\", inplace=True)\n",
    "pd.unique(donors[feature])"
   ]
  },
  {
   "cell_type": "markdown",
   "metadata": {},
   "source": [
    "**RECPGVG**"
   ]
  },
  {
   "cell_type": "code",
   "execution_count": 19,
   "metadata": {},
   "outputs": [
    {
     "data": {
      "text/plain": [
       "array([' ', 'X'], dtype=object)"
      ]
     },
     "execution_count": 19,
     "metadata": {},
     "output_type": "execute_result"
    }
   ],
   "source": [
    "feature = 'RECPGVG'\n",
    "pd.unique(donors[feature])"
   ]
  },
  {
   "cell_type": "code",
   "execution_count": 20,
   "metadata": {},
   "outputs": [
    {
     "data": {
      "text/plain": [
       "array(['Not a Planned Giving Record', 'Planned Giving Record'],\n",
       "      dtype=object)"
      ]
     },
     "execution_count": 20,
     "metadata": {},
     "output_type": "execute_result"
    }
   ],
   "source": [
    "donors[feature].replace(\" \", \"Not a Planned Giving Record\", inplace=True)\n",
    "donors[feature].replace(\"X\", \"Planned Giving Record\", inplace=True)\n",
    "pd.unique(donors[feature])"
   ]
  },
  {
   "cell_type": "markdown",
   "metadata": {},
   "source": [
    "**RECSWEEP**"
   ]
  },
  {
   "cell_type": "code",
   "execution_count": 21,
   "metadata": {},
   "outputs": [
    {
     "data": {
      "text/plain": [
       "array([' ', 'X'], dtype=object)"
      ]
     },
     "execution_count": 21,
     "metadata": {},
     "output_type": "execute_result"
    }
   ],
   "source": [
    "feature = 'RECSWEEP'\n",
    "pd.unique(donors[feature])"
   ]
  },
  {
   "cell_type": "code",
   "execution_count": 22,
   "metadata": {},
   "outputs": [
    {
     "data": {
      "text/plain": [
       "array(['Not a Sweepstakes Record', 'Sweepstakes Record'], dtype=object)"
      ]
     },
     "execution_count": 22,
     "metadata": {},
     "output_type": "execute_result"
    }
   ],
   "source": [
    "donors[feature].replace(\" \", \"Not a Sweepstakes Record\", inplace=True)\n",
    "donors[feature].replace(\"X\", \"Sweepstakes Record\", inplace=True)\n",
    "pd.unique(donors[feature])"
   ]
  },
  {
   "cell_type": "markdown",
   "metadata": {},
   "source": [
    "**MAJOR**"
   ]
  },
  {
   "cell_type": "code",
   "execution_count": 23,
   "metadata": {},
   "outputs": [
    {
     "data": {
      "text/plain": [
       "array([' ', 'X'], dtype=object)"
      ]
     },
     "execution_count": 23,
     "metadata": {},
     "output_type": "execute_result"
    }
   ],
   "source": [
    "feature = 'MAJOR'\n",
    "pd.unique(donors[feature])"
   ]
  },
  {
   "cell_type": "code",
   "execution_count": 24,
   "metadata": {},
   "outputs": [
    {
     "data": {
      "text/plain": [
       "array(['Not a Major Donor', 'Major Donor'], dtype=object)"
      ]
     },
     "execution_count": 24,
     "metadata": {},
     "output_type": "execute_result"
    }
   ],
   "source": [
    "donors[feature].replace(\" \", \"Not a Major Donor\", inplace=True)\n",
    "donors[feature].replace(\"X\", \"Major Donor\", inplace=True)\n",
    "pd.unique(donors[feature])"
   ]
  },
  {
   "cell_type": "markdown",
   "metadata": {},
   "source": [
    "## Asses existance of nan values and duplictes and deal with empty strings"
   ]
  },
  {
   "cell_type": "code",
   "execution_count": 25,
   "metadata": {},
   "outputs": [
    {
     "data": {
      "text/plain": [
       "0"
      ]
     },
     "execution_count": 25,
     "metadata": {},
     "output_type": "execute_result"
    }
   ],
   "source": [
    "# See how many duplicated observations exist\n",
    "donors.duplicated().sum()"
   ]
  },
  {
   "cell_type": "code",
   "execution_count": 26,
   "metadata": {
    "scrolled": true
   },
   "outputs": [
    {
     "data": {
      "text/plain": [
       "DOB         23883\n",
       "NUMCHLD     83026\n",
       "INCOME      21286\n",
       "WEALTH1     44732\n",
       "MBCRAFT     52854\n",
       "            ...  \n",
       "RAMNT_24    77674\n",
       "FISTDATE        2\n",
       "NEXTDATE     9973\n",
       "TIMELAG      9973\n",
       "GEOCODE2      132\n",
       "Length: 92, dtype: int64"
      ]
     },
     "execution_count": 26,
     "metadata": {},
     "output_type": "execute_result"
    }
   ],
   "source": [
    "# List the variables that have missing values and their missing value counts\n",
    "missing_value_counts = donors.isna().sum()[donors.isna().sum()!=0]\n",
    "missing_value_counts"
   ]
  },
  {
   "cell_type": "code",
   "execution_count": 27,
   "metadata": {},
   "outputs": [
    {
     "data": {
      "text/plain": [
       "5158884"
      ]
     },
     "execution_count": 27,
     "metadata": {},
     "output_type": "execute_result"
    }
   ],
   "source": [
    "# Get the total number of nan values\n",
    "donors.isna().sum()[donors.isna().sum()!=0].sum()"
   ]
  },
  {
   "cell_type": "code",
   "execution_count": 28,
   "metadata": {},
   "outputs": [],
   "source": [
    "# Replace \" \" by nans\n",
    "donors.replace(\" \", np.nan, inplace=True)"
   ]
  },
  {
   "cell_type": "code",
   "execution_count": 29,
   "metadata": {},
   "outputs": [
    {
     "data": {
      "text/plain": [
       "8170773"
      ]
     },
     "execution_count": 29,
     "metadata": {},
     "output_type": "execute_result"
    }
   ],
   "source": [
    "# Get the total number of nan values once more\n",
    "donors.isna().sum()[donors.isna().sum()!=0].sum()"
   ]
  },
  {
   "cell_type": "markdown",
   "metadata": {},
   "source": [
    "<span style=\"color:red\">**About 3 million \" \" (spaces) were converted to nan.**</span>"
   ]
  },
  {
   "cell_type": "code",
   "execution_count": 30,
   "metadata": {},
   "outputs": [],
   "source": [
    "# Replace \"\" by nans\n",
    "donors.replace(\"\", np.nan, inplace=True)"
   ]
  },
  {
   "cell_type": "code",
   "execution_count": 31,
   "metadata": {},
   "outputs": [
    {
     "data": {
      "text/plain": [
       "8170773"
      ]
     },
     "execution_count": 31,
     "metadata": {},
     "output_type": "execute_result"
    }
   ],
   "source": [
    "# Get the total number of nan values once more\n",
    "donors.isna().sum()[donors.isna().sum()!=0].sum()"
   ]
  },
  {
   "cell_type": "markdown",
   "metadata": {},
   "source": [
    "<span style=\"color:red\">**No additional nans added in this step.**</span>"
   ]
  },
  {
   "cell_type": "markdown",
   "metadata": {},
   "source": [
    "## Assess the percentage of missing values per feature and drop the features that have more than 40% mssing values"
   ]
  },
  {
   "cell_type": "code",
   "execution_count": 32,
   "metadata": {},
   "outputs": [
    {
     "data": {
      "text/plain": [
       "ODATEDW     0.000000\n",
       "OSOURCE     0.972624\n",
       "TCODE       0.000000\n",
       "STATE       0.000000\n",
       "ZIP         0.000000\n",
       "              ...   \n",
       "RFA_2A      0.000000\n",
       "MDMAUD_R    0.000000\n",
       "MDMAUD_F    0.000000\n",
       "MDMAUD_A    0.000000\n",
       "GEOCODE2    0.334339\n",
       "Length: 475, dtype: float64"
      ]
     },
     "execution_count": 32,
     "metadata": {},
     "output_type": "execute_result"
    }
   ],
   "source": [
    "# Create an empty list\n",
    "nan_percentage_list = []\n",
    "\n",
    "# Loop over the list of features and compute their percentage of nan values\n",
    "for feature in list(donors):\n",
    "    nan_percentage = len(donors[feature][donors[feature].isna()]) / len(donors[feature]) * 100\n",
    "    nan_percentage_list.append(nan_percentage)\n",
    "    \n",
    "# Create a look-up table\n",
    "nan_percentage_series = pd.Series(data=nan_percentage_list, index=list(donors))\n",
    "nan_percentage_series"
   ]
  },
  {
   "cell_type": "code",
   "execution_count": 33,
   "metadata": {},
   "outputs": [],
   "source": [
    "# Get a list of the features that have a higher amount of missing values\n",
    "lower_nan_percentage = nan_percentage_series[nan_percentage_series<=40].index.tolist()\n",
    "\n",
    "# Get a list of the features that have a lower amount of missing values\n",
    "higher_nan_percentage = nan_percentage_series[nan_percentage_series>40].index.tolist()\n",
    "\n",
    "# For report: Save the names of the features with the lower nan percentage in the variable \n",
    "# \"features_dropped_due_to_nans\"\n",
    "features_dropped_due_to_nans = higher_nan_percentage"
   ]
  },
  {
   "cell_type": "code",
   "execution_count": 34,
   "metadata": {},
   "outputs": [
    {
     "data": {
      "text/html": [
       "<div>\n",
       "<style scoped>\n",
       "    .dataframe tbody tr th:only-of-type {\n",
       "        vertical-align: middle;\n",
       "    }\n",
       "\n",
       "    .dataframe tbody tr th {\n",
       "        vertical-align: top;\n",
       "    }\n",
       "\n",
       "    .dataframe thead th {\n",
       "        text-align: right;\n",
       "    }\n",
       "</style>\n",
       "<table border=\"1\" class=\"dataframe\">\n",
       "  <thead>\n",
       "    <tr style=\"text-align: right;\">\n",
       "      <th></th>\n",
       "      <th>ODATEDW</th>\n",
       "      <th>OSOURCE</th>\n",
       "      <th>TCODE</th>\n",
       "      <th>STATE</th>\n",
       "      <th>ZIP</th>\n",
       "      <th>MAILCODE</th>\n",
       "      <th>DOB</th>\n",
       "      <th>NOEXCH</th>\n",
       "      <th>RECINHSE</th>\n",
       "      <th>RECP3</th>\n",
       "      <th>...</th>\n",
       "      <th>AVGGIFT</th>\n",
       "      <th>CONTROLN</th>\n",
       "      <th>HPHONE_D</th>\n",
       "      <th>RFA_2R</th>\n",
       "      <th>RFA_2F</th>\n",
       "      <th>RFA_2A</th>\n",
       "      <th>MDMAUD_R</th>\n",
       "      <th>MDMAUD_F</th>\n",
       "      <th>MDMAUD_A</th>\n",
       "      <th>GEOCODE2</th>\n",
       "    </tr>\n",
       "  </thead>\n",
       "  <tbody>\n",
       "    <tr>\n",
       "      <th>0</th>\n",
       "      <td>2009-01-01</td>\n",
       "      <td>GRI</td>\n",
       "      <td>0</td>\n",
       "      <td>IL</td>\n",
       "      <td>61081</td>\n",
       "      <td>Address is OK</td>\n",
       "      <td>1957-12-01</td>\n",
       "      <td>can be exchanged</td>\n",
       "      <td>Not an In House Record</td>\n",
       "      <td>Not a P3 Record</td>\n",
       "      <td>...</td>\n",
       "      <td>7.741935</td>\n",
       "      <td>95515</td>\n",
       "      <td>0</td>\n",
       "      <td>L</td>\n",
       "      <td>4</td>\n",
       "      <td>E</td>\n",
       "      <td>X</td>\n",
       "      <td>X</td>\n",
       "      <td>X</td>\n",
       "      <td>C</td>\n",
       "    </tr>\n",
       "    <tr>\n",
       "      <th>1</th>\n",
       "      <td>2014-01-01</td>\n",
       "      <td>BOA</td>\n",
       "      <td>1</td>\n",
       "      <td>CA</td>\n",
       "      <td>91326</td>\n",
       "      <td>Address is OK</td>\n",
       "      <td>1972-02-01</td>\n",
       "      <td>can be exchanged</td>\n",
       "      <td>Not an In House Record</td>\n",
       "      <td>Not a P3 Record</td>\n",
       "      <td>...</td>\n",
       "      <td>15.666667</td>\n",
       "      <td>148535</td>\n",
       "      <td>0</td>\n",
       "      <td>L</td>\n",
       "      <td>2</td>\n",
       "      <td>G</td>\n",
       "      <td>X</td>\n",
       "      <td>X</td>\n",
       "      <td>X</td>\n",
       "      <td>A</td>\n",
       "    </tr>\n",
       "    <tr>\n",
       "      <th>2</th>\n",
       "      <td>2010-01-01</td>\n",
       "      <td>AMH</td>\n",
       "      <td>1</td>\n",
       "      <td>NC</td>\n",
       "      <td>27017</td>\n",
       "      <td>Address is OK</td>\n",
       "      <td>NaN</td>\n",
       "      <td>can be exchanged</td>\n",
       "      <td>Not an In House Record</td>\n",
       "      <td>Not a P3 Record</td>\n",
       "      <td>...</td>\n",
       "      <td>7.481481</td>\n",
       "      <td>15078</td>\n",
       "      <td>1</td>\n",
       "      <td>L</td>\n",
       "      <td>4</td>\n",
       "      <td>E</td>\n",
       "      <td>X</td>\n",
       "      <td>X</td>\n",
       "      <td>X</td>\n",
       "      <td>C</td>\n",
       "    </tr>\n",
       "    <tr>\n",
       "      <th>3</th>\n",
       "      <td>2007-01-01</td>\n",
       "      <td>BRY</td>\n",
       "      <td>0</td>\n",
       "      <td>CA</td>\n",
       "      <td>95953</td>\n",
       "      <td>Address is OK</td>\n",
       "      <td>1948-01-01</td>\n",
       "      <td>can be exchanged</td>\n",
       "      <td>Not an In House Record</td>\n",
       "      <td>Not a P3 Record</td>\n",
       "      <td>...</td>\n",
       "      <td>6.812500</td>\n",
       "      <td>172556</td>\n",
       "      <td>1</td>\n",
       "      <td>L</td>\n",
       "      <td>4</td>\n",
       "      <td>E</td>\n",
       "      <td>X</td>\n",
       "      <td>X</td>\n",
       "      <td>X</td>\n",
       "      <td>C</td>\n",
       "    </tr>\n",
       "    <tr>\n",
       "      <th>4</th>\n",
       "      <td>2006-01-01</td>\n",
       "      <td>NaN</td>\n",
       "      <td>0</td>\n",
       "      <td>FL</td>\n",
       "      <td>33176</td>\n",
       "      <td>Address is OK</td>\n",
       "      <td>1940-01-01</td>\n",
       "      <td>can be exchanged</td>\n",
       "      <td>Donor has given to PVA's In House program</td>\n",
       "      <td>Donor has given to PVA's P3 program</td>\n",
       "      <td>...</td>\n",
       "      <td>6.864865</td>\n",
       "      <td>7112</td>\n",
       "      <td>1</td>\n",
       "      <td>L</td>\n",
       "      <td>2</td>\n",
       "      <td>F</td>\n",
       "      <td>X</td>\n",
       "      <td>X</td>\n",
       "      <td>X</td>\n",
       "      <td>A</td>\n",
       "    </tr>\n",
       "    <tr>\n",
       "      <th>...</th>\n",
       "      <td>...</td>\n",
       "      <td>...</td>\n",
       "      <td>...</td>\n",
       "      <td>...</td>\n",
       "      <td>...</td>\n",
       "      <td>...</td>\n",
       "      <td>...</td>\n",
       "      <td>...</td>\n",
       "      <td>...</td>\n",
       "      <td>...</td>\n",
       "      <td>...</td>\n",
       "      <td>...</td>\n",
       "      <td>...</td>\n",
       "      <td>...</td>\n",
       "      <td>...</td>\n",
       "      <td>...</td>\n",
       "      <td>...</td>\n",
       "      <td>...</td>\n",
       "      <td>...</td>\n",
       "      <td>...</td>\n",
       "      <td>...</td>\n",
       "    </tr>\n",
       "    <tr>\n",
       "      <th>95407</th>\n",
       "      <td>2016-01-01</td>\n",
       "      <td>ASE</td>\n",
       "      <td>1</td>\n",
       "      <td>AK</td>\n",
       "      <td>99504</td>\n",
       "      <td>Address is OK</td>\n",
       "      <td>NaN</td>\n",
       "      <td>can be exchanged</td>\n",
       "      <td>Not an In House Record</td>\n",
       "      <td>Not a P3 Record</td>\n",
       "      <td>...</td>\n",
       "      <td>25.000000</td>\n",
       "      <td>184568</td>\n",
       "      <td>0</td>\n",
       "      <td>L</td>\n",
       "      <td>1</td>\n",
       "      <td>G</td>\n",
       "      <td>X</td>\n",
       "      <td>X</td>\n",
       "      <td>X</td>\n",
       "      <td>C</td>\n",
       "    </tr>\n",
       "    <tr>\n",
       "      <th>95408</th>\n",
       "      <td>2016-01-01</td>\n",
       "      <td>DCD</td>\n",
       "      <td>1</td>\n",
       "      <td>TX</td>\n",
       "      <td>77379</td>\n",
       "      <td>Address is OK</td>\n",
       "      <td>1970-01-01</td>\n",
       "      <td>can be exchanged</td>\n",
       "      <td>Not an In House Record</td>\n",
       "      <td>Not a P3 Record</td>\n",
       "      <td>...</td>\n",
       "      <td>20.000000</td>\n",
       "      <td>122706</td>\n",
       "      <td>1</td>\n",
       "      <td>L</td>\n",
       "      <td>1</td>\n",
       "      <td>F</td>\n",
       "      <td>X</td>\n",
       "      <td>X</td>\n",
       "      <td>X</td>\n",
       "      <td>A</td>\n",
       "    </tr>\n",
       "    <tr>\n",
       "      <th>95409</th>\n",
       "      <td>2015-01-01</td>\n",
       "      <td>MBC</td>\n",
       "      <td>1</td>\n",
       "      <td>MI</td>\n",
       "      <td>48910</td>\n",
       "      <td>Address is OK</td>\n",
       "      <td>1958-01-01</td>\n",
       "      <td>can be exchanged</td>\n",
       "      <td>Not an In House Record</td>\n",
       "      <td>Donor has given to PVA's P3 program</td>\n",
       "      <td>...</td>\n",
       "      <td>8.285714</td>\n",
       "      <td>189641</td>\n",
       "      <td>1</td>\n",
       "      <td>L</td>\n",
       "      <td>3</td>\n",
       "      <td>E</td>\n",
       "      <td>X</td>\n",
       "      <td>X</td>\n",
       "      <td>X</td>\n",
       "      <td>B</td>\n",
       "    </tr>\n",
       "    <tr>\n",
       "      <th>95410</th>\n",
       "      <td>2006-01-01</td>\n",
       "      <td>PRV</td>\n",
       "      <td>0</td>\n",
       "      <td>CA</td>\n",
       "      <td>91320</td>\n",
       "      <td>Address is OK</td>\n",
       "      <td>1960-05-01</td>\n",
       "      <td>can be exchanged</td>\n",
       "      <td>Donor has given to PVA's In House program</td>\n",
       "      <td>Not a P3 Record</td>\n",
       "      <td>...</td>\n",
       "      <td>12.146341</td>\n",
       "      <td>4693</td>\n",
       "      <td>1</td>\n",
       "      <td>L</td>\n",
       "      <td>4</td>\n",
       "      <td>F</td>\n",
       "      <td>X</td>\n",
       "      <td>X</td>\n",
       "      <td>X</td>\n",
       "      <td>A</td>\n",
       "    </tr>\n",
       "    <tr>\n",
       "      <th>95411</th>\n",
       "      <td>2008-01-01</td>\n",
       "      <td>MCC</td>\n",
       "      <td>2</td>\n",
       "      <td>NC</td>\n",
       "      <td>28409</td>\n",
       "      <td>Address is OK</td>\n",
       "      <td>1938-01-01</td>\n",
       "      <td>can be exchanged</td>\n",
       "      <td>Donor has given to PVA's In House program</td>\n",
       "      <td>Not a P3 Record</td>\n",
       "      <td>...</td>\n",
       "      <td>96.794872</td>\n",
       "      <td>185114</td>\n",
       "      <td>1</td>\n",
       "      <td>L</td>\n",
       "      <td>1</td>\n",
       "      <td>G</td>\n",
       "      <td>C</td>\n",
       "      <td>1</td>\n",
       "      <td>C</td>\n",
       "      <td>C</td>\n",
       "    </tr>\n",
       "  </tbody>\n",
       "</table>\n",
       "<p>95412 rows × 378 columns</p>\n",
       "</div>"
      ],
      "text/plain": [
       "          ODATEDW OSOURCE  TCODE STATE    ZIP       MAILCODE         DOB  \\\n",
       "0      2009-01-01     GRI      0    IL  61081  Address is OK  1957-12-01   \n",
       "1      2014-01-01     BOA      1    CA  91326  Address is OK  1972-02-01   \n",
       "2      2010-01-01     AMH      1    NC  27017  Address is OK         NaN   \n",
       "3      2007-01-01     BRY      0    CA  95953  Address is OK  1948-01-01   \n",
       "4      2006-01-01     NaN      0    FL  33176  Address is OK  1940-01-01   \n",
       "...           ...     ...    ...   ...    ...            ...         ...   \n",
       "95407  2016-01-01     ASE      1    AK  99504  Address is OK         NaN   \n",
       "95408  2016-01-01     DCD      1    TX  77379  Address is OK  1970-01-01   \n",
       "95409  2015-01-01     MBC      1    MI  48910  Address is OK  1958-01-01   \n",
       "95410  2006-01-01     PRV      0    CA  91320  Address is OK  1960-05-01   \n",
       "95411  2008-01-01     MCC      2    NC  28409  Address is OK  1938-01-01   \n",
       "\n",
       "                 NOEXCH                                   RECINHSE  \\\n",
       "0      can be exchanged                     Not an In House Record   \n",
       "1      can be exchanged                     Not an In House Record   \n",
       "2      can be exchanged                     Not an In House Record   \n",
       "3      can be exchanged                     Not an In House Record   \n",
       "4      can be exchanged  Donor has given to PVA's In House program   \n",
       "...                 ...                                        ...   \n",
       "95407  can be exchanged                     Not an In House Record   \n",
       "95408  can be exchanged                     Not an In House Record   \n",
       "95409  can be exchanged                     Not an In House Record   \n",
       "95410  can be exchanged  Donor has given to PVA's In House program   \n",
       "95411  can be exchanged  Donor has given to PVA's In House program   \n",
       "\n",
       "                                     RECP3  ...    AVGGIFT CONTROLN HPHONE_D  \\\n",
       "0                          Not a P3 Record  ...   7.741935    95515        0   \n",
       "1                          Not a P3 Record  ...  15.666667   148535        0   \n",
       "2                          Not a P3 Record  ...   7.481481    15078        1   \n",
       "3                          Not a P3 Record  ...   6.812500   172556        1   \n",
       "4      Donor has given to PVA's P3 program  ...   6.864865     7112        1   \n",
       "...                                    ...  ...        ...      ...      ...   \n",
       "95407                      Not a P3 Record  ...  25.000000   184568        0   \n",
       "95408                      Not a P3 Record  ...  20.000000   122706        1   \n",
       "95409  Donor has given to PVA's P3 program  ...   8.285714   189641        1   \n",
       "95410                      Not a P3 Record  ...  12.146341     4693        1   \n",
       "95411                      Not a P3 Record  ...  96.794872   185114        1   \n",
       "\n",
       "      RFA_2R RFA_2F  RFA_2A MDMAUD_R  MDMAUD_F MDMAUD_A  GEOCODE2  \n",
       "0          L      4       E        X         X        X         C  \n",
       "1          L      2       G        X         X        X         A  \n",
       "2          L      4       E        X         X        X         C  \n",
       "3          L      4       E        X         X        X         C  \n",
       "4          L      2       F        X         X        X         A  \n",
       "...      ...    ...     ...      ...       ...      ...       ...  \n",
       "95407      L      1       G        X         X        X         C  \n",
       "95408      L      1       F        X         X        X         A  \n",
       "95409      L      3       E        X         X        X         B  \n",
       "95410      L      4       F        X         X        X         A  \n",
       "95411      L      1       G        C         1        C         C  \n",
       "\n",
       "[95412 rows x 378 columns]"
      ]
     },
     "execution_count": 34,
     "metadata": {},
     "output_type": "execute_result"
    }
   ],
   "source": [
    "donors_1 = donors[lower_nan_percentage]\n",
    "donors_1"
   ]
  },
  {
   "cell_type": "code",
   "execution_count": 35,
   "metadata": {},
   "outputs": [],
   "source": [
    "# Accept the changes\n",
    "donors = donors_1"
   ]
  },
  {
   "cell_type": "code",
   "execution_count": 36,
   "metadata": {},
   "outputs": [],
   "source": [
    "def sort_features(original_order, shuffled):\n",
    "    ordered = []\n",
    "    for feature in original_order:\n",
    "        if feature in shuffled:\n",
    "            ordered.append(feature)\n",
    "    return ordered"
   ]
  },
  {
   "cell_type": "code",
   "execution_count": 37,
   "metadata": {},
   "outputs": [
    {
     "name": "stdout",
     "output_type": "stream",
     "text": [
      "Number of metric features before removal: 398\n",
      "Number of metric features afer removal: 331\n"
     ]
    }
   ],
   "source": [
    "# Update 'metric_features' list\n",
    "\n",
    "# Print the number of metric features before the removal\n",
    "print('Number of metric features before removal:', len(metric_features))\n",
    "\n",
    "# Get the features that are metric features and still exist in our dataset\n",
    "metric_features = list(set(metric_features).intersection(set(donors)))\n",
    "\n",
    "# And sort them according to our original order\n",
    "metric_features = sort_features(metric_features_orig, metric_features)\n",
    "\n",
    "# Print the number of metric features after the removal\n",
    "print('Number of metric features afer removal:', len(metric_features))"
   ]
  },
  {
   "cell_type": "code",
   "execution_count": 38,
   "metadata": {},
   "outputs": [
    {
     "name": "stdout",
     "output_type": "stream",
     "text": [
      "Number of non-metric features before removal: 77\n",
      "Number of non-metric features afer removal: 47\n"
     ]
    }
   ],
   "source": [
    "# Update 'non_metric_features' list\n",
    "\n",
    "# Print the number of metric features before the removal\n",
    "print('Number of non-metric features before removal:', len(non_metric_features))\n",
    "\n",
    "# Get the features that are metric features and still exist in our dataset\n",
    "non_metric_features = list(set(non_metric_features).intersection(set(donors)))\n",
    "\n",
    "# And sort them according to our original order\n",
    "non_metric_features = sort_features(non_metric_features_orig, non_metric_features)\n",
    "\n",
    "# Print the number of metric features after the removal\n",
    "print('Number of non-metric features afer removal:', len(non_metric_features))"
   ]
  },
  {
   "cell_type": "code",
   "execution_count": 39,
   "metadata": {},
   "outputs": [
    {
     "data": {
      "text/plain": [
       "770663"
      ]
     },
     "execution_count": 39,
     "metadata": {},
     "output_type": "execute_result"
    }
   ],
   "source": [
    "# Get the total number of nan values once more\n",
    "donors.isna().sum()[donors.isna().sum()!=0].sum()"
   ]
  },
  {
   "cell_type": "markdown",
   "metadata": {},
   "source": [
    "<span style=\"color:red\">**Before: About 8 million nans. Now: Less than 1 million nans.**</span>"
   ]
  },
  {
   "cell_type": "markdown",
   "metadata": {},
   "source": [
    "## Transform columns containing dates to datetime format"
   ]
  },
  {
   "cell_type": "code",
   "execution_count": 40,
   "metadata": {},
   "outputs": [],
   "source": [
    "def series_string_to_date_if_not_nan(x):\n",
    "    \"\"\"This function checks if something is a string, and if so, converts it into a datetime object\"\"\"\n",
    "    # If it's not a nan, but a string\n",
    "    if type(x)==str:\n",
    "        x = datetime.datetime.strptime(x, '%Y-%m-%d').date()\n",
    "    # if it's a nan, change to NaT\n",
    "    # else:\n",
    "    #     x = pd.NaT\n",
    "    return x"
   ]
  },
  {
   "cell_type": "code",
   "execution_count": 41,
   "metadata": {},
   "outputs": [],
   "source": [
    "# Define a function for converting series containing strings to series containing datetime objects\n",
    "def series_string_to_date(series):\n",
    "    \"\"\"This function turns a pandas series that consists of String values into a pandas series containing \n",
    "    datetime objects\"\"\"\n",
    "    series_datetime = series.map(lambda x: series_string_to_date_if_not_nan(x))\n",
    "    return series_datetime"
   ]
  },
  {
   "cell_type": "code",
   "execution_count": 42,
   "metadata": {},
   "outputs": [],
   "source": [
    "def replace_string_col_by_date_col(df, colname):\n",
    "    \"\"\"This function uses 'series_string_to_date' for replacing a string column by a datetime object column\"\"\"\n",
    "    df[colname] = series_string_to_date(df[colname])"
   ]
  },
  {
   "cell_type": "code",
   "execution_count": 43,
   "metadata": {},
   "outputs": [],
   "source": [
    "# Code for checking data types\n",
    "if False:\n",
    "    labels_types = pd.DataFrame({'Labels':list(donors), 'Data types':list(donors.dtypes)})\n",
    "    labels_types[0:10]"
   ]
  },
  {
   "cell_type": "code",
   "execution_count": 44,
   "metadata": {},
   "outputs": [],
   "source": [
    "# Define the labels who's columns should be changed to datetime\n",
    "date_features = [\n",
    "    'ODATEDW',\n",
    "    'DOB',\n",
    "    'ADATE_2',\n",
    "    'ADATE_3',\n",
    "    'ADATE_4',\n",
    "    'ADATE_5',\n",
    "    'ADATE_6',\n",
    "    'ADATE_7',\n",
    "    'ADATE_8',\n",
    "    'ADATE_9',\n",
    "    'ADATE_10',\n",
    "    'ADATE_11',\n",
    "    'ADATE_12',\n",
    "    'ADATE_13',\n",
    "    'ADATE_14',\n",
    "    'ADATE_15',\n",
    "    'ADATE_16',\n",
    "    'ADATE_17',\n",
    "    'ADATE_18',\n",
    "    'ADATE_19',\n",
    "    'ADATE_20',\n",
    "    'ADATE_21',\n",
    "    'ADATE_22',\n",
    "    'ADATE_23',\n",
    "    'ADATE_24',\n",
    "    'MAXADATE',\n",
    "    'RDATE_3',\n",
    "    'RDATE_4',\n",
    "    'RDATE_5',\n",
    "    'RDATE_6',\n",
    "    'RDATE_7',\n",
    "    'RDATE_8',\n",
    "    'RDATE_9',\n",
    "    'RDATE_10',\n",
    "    'RDATE_11',\n",
    "    'RDATE_12',\n",
    "    'RDATE_13',\n",
    "    'RDATE_14',\n",
    "    'RDATE_15',\n",
    "    'RDATE_16',\n",
    "    'RDATE_17',\n",
    "    'RDATE_18',\n",
    "    'RDATE_19',\n",
    "    'RDATE_20',\n",
    "    'RDATE_21',\n",
    "    'RDATE_22',\n",
    "    'RDATE_23',\n",
    "    'RDATE_24',\n",
    "    'MINRDATE',\n",
    "    'MAXRDATE',\n",
    "    'LASTDATE',\n",
    "    'FISTDATE',\n",
    "    'NEXTDATE',\n",
    "]\n",
    "\n",
    "# Save this original list of date features\n",
    "date_features_orig = date_features.copy()\n",
    "\n",
    "# Get the features that are date features and still exist in our dataset\n",
    "date_features = list(set(date_features).intersection(set(donors)))\n",
    "\n",
    "# And sort them according to our original order\n",
    "date_features = sort_features(date_features_orig, date_features)"
   ]
  },
  {
   "cell_type": "code",
   "execution_count": 45,
   "metadata": {},
   "outputs": [],
   "source": [
    "# Code for checking the existing datatypes in a given columns\n",
    "# This needs some work. Doesn't always work properly\n",
    "if False:\n",
    "    feature = 'NUMCHLD'\n",
    "    unique_types = set()\n",
    "    str_indices = []\n",
    "    float_indices = []\n",
    "    other_indices = []\n",
    "    for i in range(len(donors[feature])):\n",
    "        if type(donors[feature][i])==str:\n",
    "                str_indices.append(i)\n",
    "        if type(donors[feature][i])==float:\n",
    "                float_indices.append(i)\n",
    "        else:\n",
    "                other_indices.append(i)\n",
    "        unique_types.add(type(donors[feature][i]))\n",
    "    nans = donors[feature][float_indices]\n",
    "    strings = donors[feature][str_indices]\n",
    "    print('Strings:', strings)\n",
    "    print('Floats (can be NaNs):', nans)\n",
    "    print('Contains the following data types:', unique_types)"
   ]
  },
  {
   "cell_type": "code",
   "execution_count": 46,
   "metadata": {},
   "outputs": [],
   "source": [
    "# Use the functions defined above to change all non-nan values of the columns in 'date_features' datetime objects\n",
    "for label_to_change in date_features:\n",
    "    replace_string_col_by_date_col(donors, label_to_change)"
   ]
  },
  {
   "cell_type": "code",
   "execution_count": 47,
   "metadata": {},
   "outputs": [
    {
     "name": "stdout",
     "output_type": "stream",
     "text": [
      "<class 'datetime.date'>\n",
      "<class 'datetime.date'>\n",
      "<class 'datetime.date'>\n",
      "<class 'datetime.date'>\n",
      "<class 'datetime.date'>\n",
      "<class 'datetime.date'>\n",
      "<class 'datetime.date'>\n",
      "<class 'datetime.date'>\n",
      "<class 'datetime.date'>\n",
      "<class 'datetime.date'>\n",
      "<class 'datetime.date'>\n",
      "<class 'datetime.date'>\n",
      "<class 'datetime.date'>\n",
      "<class 'datetime.date'>\n",
      "<class 'datetime.date'>\n",
      "<class 'datetime.date'>\n",
      "<class 'datetime.date'>\n",
      "<class 'datetime.date'>\n",
      "<class 'datetime.date'>\n",
      "<class 'datetime.date'>\n",
      "<class 'datetime.date'>\n",
      "<class 'datetime.date'>\n",
      "<class 'datetime.date'>\n",
      "<class 'datetime.date'>\n",
      "<class 'datetime.date'>\n",
      "<class 'datetime.date'>\n",
      "<class 'datetime.date'>\n"
     ]
    }
   ],
   "source": [
    "# Check that it worked properly\n",
    "for i in range(len(date_features)):\n",
    "    print(type(donors[date_features[i]][0]))"
   ]
  },
  {
   "cell_type": "code",
   "execution_count": 48,
   "metadata": {},
   "outputs": [
    {
     "data": {
      "text/plain": [
       "0       23026 days\n",
       "1       17851 days\n",
       "2              NaT\n",
       "3       26648 days\n",
       "4       29570 days\n",
       "           ...    \n",
       "95407          NaT\n",
       "95408   18612 days\n",
       "95409   22995 days\n",
       "95410   22144 days\n",
       "95411   30300 days\n",
       "Name: DOB, Length: 95412, dtype: timedelta64[ns]"
      ]
     },
     "execution_count": 48,
     "metadata": {},
     "output_type": "execute_result"
    }
   ],
   "source": [
    "# Check if time calculations work properly with these columns\n",
    "now = date.today()\n",
    "now - donors['DOB']\n",
    "# Seems to work well."
   ]
  },
  {
   "cell_type": "markdown",
   "metadata": {},
   "source": [
    "## Create pandas-profiling report"
   ]
  },
  {
   "cell_type": "code",
   "execution_count": 49,
   "metadata": {},
   "outputs": [],
   "source": [
    "now_string = str(datetime.datetime.now())\n",
    "\n",
    "profile = ProfileReport(\n",
    "    donors, \n",
    "    title='Donors Data',\n",
    "    correlations={\n",
    "        \"pearson\": {\"calculate\": True},\n",
    "        \"spearman\": {\"calculate\": True},\n",
    "        \"kendall\": {\"calculate\": False},\n",
    "        \"phi_k\": {\"calculate\": False},\n",
    "        \"cramers\": {\"calculate\": False},\n",
    "    },\n",
    "    minimal = False\n",
    ")"
   ]
  },
  {
   "cell_type": "code",
   "execution_count": 50,
   "metadata": {},
   "outputs": [],
   "source": [
    "folder_path = os.path.join('pandas-profiling', now_string)\n",
    "\n",
    "if not os.path.exists(folder_path):\n",
    "    os.makedirs(folder_path)"
   ]
  },
  {
   "cell_type": "code",
   "execution_count": 51,
   "metadata": {},
   "outputs": [],
   "source": [
    "if False:\n",
    "    profile.to_file(os.path.join(folder_path, \"pandas_profiling.html\"))"
   ]
  },
  {
   "cell_type": "markdown",
   "metadata": {},
   "source": [
    "## Data cleaning"
   ]
  },
  {
   "cell_type": "code",
   "execution_count": 97,
   "metadata": {},
   "outputs": [],
   "source": [
    "# Adapted from \"lab04_data_visualization\" (Data Mining)\n",
    "def single_hist(feature, *n_of_bins):\n",
    "    \"\"\"This function takes feature name and produces a visualisation of the histogram of the respective feature\"\"\"\n",
    "    # Single Metric Variable Histogram\n",
    "    if len(n_of_bins)==0:\n",
    "        print('Number of bins: Automatic')\n",
    "        plt.hist(donors[feature])\n",
    "    else:\n",
    "        print('Number of bins:', n_of_bins[0])\n",
    "        plt.hist(donors[feature], bins = n_of_bins[0])\n",
    "    plt.title(feature, y=-0.2)\n",
    "    \n",
    "    # Save figure and include time stamp in filename\n",
    "    now_string = str(datetime.datetime.now())[0:19].replace(':', '-').replace(' ', '_')\n",
    "    folder_path = os.path.join('figures')\n",
    "    if not os.path.exists(folder_path):\n",
    "        os.makedirs(folder_path)\n",
    "    filename = now_string + '_single_histogram.png'\n",
    "    plt.savefig(os.path.join(folder_path, filename), dpi=200)\n",
    "\n",
    "    plt.show()"
   ]
  },
  {
   "cell_type": "code",
   "execution_count": 53,
   "metadata": {},
   "outputs": [],
   "source": [
    "def remove_value(feature, value):\n",
    "    \"\"\"This function takes a feature name and a value and turns all elements of the respective column with this value\n",
    "    into nans.\"\"\"\n",
    "    series = donors[feature].copy()\n",
    "    series[series==value]=np.nan\n",
    "    donors[feature] = series"
   ]
  },
  {
   "cell_type": "markdown",
   "metadata": {},
   "source": [
    "### Remove value 0 from columns 'AGE901' to 'AGE907'"
   ]
  },
  {
   "cell_type": "markdown",
   "metadata": {},
   "source": [
    "<span style=\"color:red\">**Before removing zeros:**<span>"
   ]
  },
  {
   "cell_type": "code",
   "execution_count": 54,
   "metadata": {},
   "outputs": [
    {
     "name": "stdout",
     "output_type": "stream",
     "text": [
      "Number of bins: 100\n"
     ]
    },
    {
     "data": {
      "image/png": "[encoded data removed]",
      "text/plain": [
       "<Figure size 432x288 with 1 Axes>"
      ]
     },
     "metadata": {
      "image/png": {
       "height": 271,
       "width": 383
      }
     },
     "output_type": "display_data"
    }
   ],
   "source": [
    "feature = 'AGE901'\n",
    "single_hist(feature, 100)"
   ]
  },
  {
   "cell_type": "code",
   "execution_count": 55,
   "metadata": {},
   "outputs": [],
   "source": [
    "for feature in ['AGE901',\n",
    "    'AGE902',\n",
    "    'AGE903',\n",
    "    'AGE904',\n",
    "    'AGE905',\n",
    "    'AGE906',\n",
    "    'AGE907']:\n",
    "    remove_value(feature, 0)"
   ]
  },
  {
   "cell_type": "markdown",
   "metadata": {},
   "source": [
    "<span style=\"color:red\">**After removing zeros:**<span>"
   ]
  },
  {
   "cell_type": "code",
   "execution_count": 194,
   "metadata": {
    "scrolled": true
   },
   "outputs": [
    {
     "name": "stdout",
     "output_type": "stream",
     "text": [
      "Number of bins: 100\n"
     ]
    },
    {
     "data": {
      "image/png": "[encoded data removed]",
      "text/plain": [
       "<Figure size 432x288 with 1 Axes>"
      ]
     },
     "metadata": {
      "image/png": {
       "height": 271,
       "width": 383
      }
     },
     "output_type": "display_data"
    }
   ],
   "source": [
    "feature = 'AGE901'\n",
    "single_hist(feature, 100)"
   ]
  },
  {
   "cell_type": "markdown",
   "metadata": {},
   "source": [
    "### Treat the cases where 'LASTDATE' suggests that donor is not lapsing or lapsed (In this dataset, all donors should be either lapsing or lapsed)\n",
    "\n",
    "<span style=\"color:red\">**We have to check this! I feel like I remove too many observations here.**<span>\n",
    "\n",
    "Forum entry \"Lapsed donors\"\n",
    "\n",
    "Entry by David Silva - Thursday, 3 December 2020, 9:43 AM\n",
    " \t\n",
    "\"Hi Philipp,\n",
    "\n",
    "Yes. A lapsed donor is a \"snapshot\" label so it depends on a point in time. The lapsed donors in this dataset are determined according to the date the last promotion (17NK) was emailed to each one of them and the date of their most recent gift. Inconsistent observations are the ones which have an interval between these two dates smaller than 13 months as according to the Lapsed donors description: \"A previous donor who made their donation between 13-24 months ago\".\""
   ]
  },
  {
   "cell_type": "code",
   "execution_count": 57,
   "metadata": {},
   "outputs": [],
   "source": [
    "# Only execute if flag=True\n",
    "flag = False"
   ]
  },
  {
   "cell_type": "code",
   "execution_count": 58,
   "metadata": {},
   "outputs": [],
   "source": [
    "if flag:\n",
    "    # Create a series that contains the dates from 'adate_2' substacted by 13 months\n",
    "    adate_2_minus_13_months = donors.ADATE_2.map(lambda x: x - dateutil.relativedelta.relativedelta(months=13))\n",
    "    adate_2_minus_13_months"
   ]
  },
  {
   "cell_type": "code",
   "execution_count": 59,
   "metadata": {},
   "outputs": [],
   "source": [
    "if flag:\n",
    "    # Check if it worked properly\n",
    "    (donors.ADATE_2 - adate_2_minus_13_months) / 13"
   ]
  },
  {
   "cell_type": "code",
   "execution_count": 60,
   "metadata": {},
   "outputs": [],
   "source": [
    "if flag:\n",
    "    # Remove inconsistent values from donors\n",
    "    # Inconsistent values are the ones where 'adate_2_minus_13_months' is before 'LASTDATE'\n",
    "    # All observations that are not inconsistent are kept.\n",
    "    donors_2 = donors[~(adate_2_minus_13_months < donors['LASTDATE'])]\n",
    "\n",
    "    percentage_discarded = ((donors.shape[0] - donors_2.shape[0]) / donors.shape[0])*100\n",
    "    print('Percentage of observation discarded due to inconsistency between their \"lapsed\" status and their LASTDATE value:')\n",
    "    print(round(percentage_discarded, 2), '%')"
   ]
  },
  {
   "cell_type": "code",
   "execution_count": 61,
   "metadata": {},
   "outputs": [],
   "source": [
    "if flag:\n",
    "    # Accept the changes\n",
    "    donors = donors_2"
   ]
  },
  {
   "cell_type": "markdown",
   "metadata": {},
   "source": [
    "## Discard features that add little information\n",
    "**Approach: Identify which variables are highly correlated to each other (pandas-profiling is of great help here) and of these groups plot the covariances and their single and common distributions as well as compute their missing value percentages and their sample standard errors. With this information decide which ones to discard and which ones to keep.**"
   ]
  },
  {
   "cell_type": "code",
   "execution_count": 76,
   "metadata": {},
   "outputs": [],
   "source": [
    "# Adapted from \"lab04_data_visualization\" (Data Mining)\n",
    "\n",
    "def corr_matrix_visualisation(features, method):\n",
    "    \"\"\"This function takes a list of features and created a visualisation of their correlation matrix.\"\"\"\n",
    "    \n",
    "    # Prepare figure\n",
    "    fig = plt.figure(figsize=(10, 8))\n",
    "\n",
    "    # Obtain correlation matrix. Round the values to 4 decimal cases. Use the DataFrame corr() and round() method.\n",
    "    corr = np.round(donors[features].corr(method=method), decimals=4)\n",
    "\n",
    "    # Build annotation matrix (values above |bound| will appear annotated in the plot)\n",
    "    bound = 0\n",
    "    mask_annot = np.absolute(corr.values) >= bound\n",
    "    annot = np.where(mask_annot, corr.values, np.full(corr.shape,\"\")) # Try to understand what this np.where() does\n",
    "\n",
    "    # Plot heatmap of the correlation matrix\n",
    "    sns.heatmap(data=corr, annot=annot, cmap=sns.diverging_palette(220, 10, as_cmap=True), \n",
    "                fmt='s', vmin=-1, vmax=1, center=0, square=True, linewidths=.5)\n",
    "\n",
    "    # Layout\n",
    "    fig.subplots_adjust(top=0.95)\n",
    "    fig.suptitle('Correlation Matrix' + ' (' + method + ')', fontsize=20)\n",
    "\n",
    "    # Save figure and include time stamp, the feature names and the method in the filename\n",
    "    now_string = str(datetime.datetime.now())[0:19].replace(':', '-').replace(' ', '_')\n",
    "    folder_path = os.path.join('figures')\n",
    "    if not os.path.exists(folder_path):\n",
    "        os.makedirs(folder_path)\n",
    "    filename = now_string + '_' +  '-'.join(features) + '_' + method + '_corr_matrix.png'\n",
    "    plt.savefig(os.path.join(folder_path, filename), dpi=200)\n",
    "\n",
    "    plt.show()"
   ]
  },
  {
   "cell_type": "code",
   "execution_count": 204,
   "metadata": {},
   "outputs": [],
   "source": [
    "def uniques_nans_variance(feature):\n",
    "    \"\"\"This function takes the name of a feature and prints its unique values, its percentage of missing values and\n",
    "    its standard deviation. Then (optionally) it returns the respective column so it is displayed as output.\"\"\"\n",
    "    \n",
    "    print('Unique values:')\n",
    "    unique = pd.unique(donors[feature])\n",
    "    unique.sort()\n",
    "    print(unique)\n",
    "    print()\n",
    "    \n",
    "    print('Percentage of missing values:')\n",
    "    print(round(len(donors[feature][donors[feature].isna()])/len(donors[feature]), 4), '%')\n",
    "    print()\n",
    "    \n",
    "    print('Minimum value:', donors[feature].min(), '- Share:', \\\n",
    "          round(((len(donors[feature][donors[feature]==donors[feature].min()])) / len(donors[feature])), 6) * 100, '%')\n",
    "    \n",
    "    print('Maximum value:', donors[feature].max(), '- Share:', \\\n",
    "          round(((len(donors[feature][donors[feature]==donors[feature].max()])) / len(donors[feature])), 6) * 100, '%')\n",
    "    print()\n",
    "    \n",
    "    try:\n",
    "        print('Sample standard deviation:', round(donors[feature].std(), 4))\n",
    "    except:\n",
    "        print(\"Couldn't compute a variance\")\n",
    "        \n",
    "    # return donors[feature]"
   ]
  },
  {
   "cell_type": "code",
   "execution_count": 144,
   "metadata": {},
   "outputs": [],
   "source": [
    "def df_nans_variance_min_max(features):\n",
    "    \"\"\"This function takes a list of features and computes their percentages of missing values, their sample\n",
    "    standard deviations, their Minima and Maxima and the percentage of how much the minima and maxima are in\n",
    "    this feature. Then it saves all this in a DataFrame which it returns.\"\"\"\n",
    "    nans = []\n",
    "    st_devs = []\n",
    "    mins = []\n",
    "    min_shares = []\n",
    "    maxs = []\n",
    "    max_shares = []\n",
    "    for feature in features:\n",
    "        nans.append(round(len(donors[feature][donors[feature].isna()])/len(donors[feature]), 4))\n",
    "        st_devs.append(round(donors[feature].std(), 4))\n",
    "        mins.append(donors[feature].min())\n",
    "        min_shares.append(round(((len(donors[feature][donors[feature]==donors[feature].min()])) \\\n",
    "                                 / len(donors[feature])),6) * 100)\n",
    "        maxs.append(donors[feature].max())\n",
    "        max_shares.append(round(((len(donors[feature][donors[feature]==donors[feature].max()])) \\\n",
    "                                 / len(donors[feature])),6) * 100)\n",
    "    \n",
    "    df = pd.DataFrame(data = {'Missing values [%]': nans, 'Sample standard deviation [Unit of feature]': st_devs, 'Minimum [Unit of f.]': mins,\\\n",
    "                              'Share of Minimum [%]:': min_shares, 'Maximum [Unit of f.]': maxs, 'Share of Maximum [%]': max_shares},\\\n",
    "                      index = features)\n",
    "    return df"
   ]
  },
  {
   "cell_type": "code",
   "execution_count": 158,
   "metadata": {},
   "outputs": [],
   "source": [
    "# Adapted from \"lab04_data_visualization\" (Data Mining)\n",
    "\n",
    "def many_hists(features, *n_of_bins):\n",
    "    \"\"\"This function takes a list of features and optionally a number of bins and creates histograms of these\n",
    "    features.\"\"\"\n",
    "    \n",
    "    # All Numeric Variables' Histograms in one figure\n",
    "    sns.set()\n",
    "\n",
    "    # Prepare figure. Create individual axes where each histogram will be placed\n",
    "    fig, axes = plt.subplots(2, ceil(len(features) / 2), figsize=(20, 11))\n",
    "\n",
    "    # Plot data\n",
    "    # Iterate across axes objects and associate each histogram (hint: use the ax.hist() instead of plt.hist()):\n",
    "    for ax, feat in zip(axes.flatten(), features): # Notice the zip() function and flatten() method\n",
    "        \n",
    "        if len(n_of_bins)==0:\n",
    "            \n",
    "            if feat == features[0]:\n",
    "                print('Number of bins: Automatic')\n",
    "            \n",
    "            ax.hist(donors[feature])\n",
    "            \n",
    "        else:\n",
    "            if feat == features[0]:\n",
    "                print('Number of bins:', n_of_bins[0])\n",
    "            ax.hist(donors[feature], bins = n_of_bins[0])\n",
    "            \n",
    "        ax.set_title(feat, y=-0.13)\n",
    "\n",
    "    # Layout\n",
    "    # Add a centered title to the figure:\n",
    "    title = \"Numeric Variables' Histograms\"\n",
    "\n",
    "    plt.suptitle(title)\n",
    "\n",
    "    # Save figure and include time stamp, the feature names and the method in the filename\n",
    "    now_string = str(datetime.datetime.now())[0:19].replace(':', '-').replace(' ', '_')\n",
    "    folder_path = os.path.join('figures')\n",
    "    if not os.path.exists(folder_path):\n",
    "        os.makedirs(folder_path)\n",
    "    filename = now_string + '_' +  '-'.join(features) + '_histograms_' + str(n_of_bins[0]) + '_bins.png'\n",
    "    plt.savefig(os.path.join(folder_path, filename), dpi=200)"
   ]
  },
  {
   "cell_type": "code",
   "execution_count": 139,
   "metadata": {},
   "outputs": [],
   "source": [
    "def many_boxplots(features):\n",
    "    \n",
    "    # All Numeric Variables' Box Plots in one figure\n",
    "    sns.set()\n",
    "\n",
    "    # Prepare figure. Create individual axes where each box plot will be placed\n",
    "    fig, axes = plt.subplots(2, ceil(len(features) / 2), figsize=(20, 11))\n",
    "\n",
    "    # Plot data\n",
    "    # Iterate across axes objects and associate each box plot (hint: use the ax argument):\n",
    "    for ax, feat in zip(axes.flatten(), features): # Notice the zip() function and flatten() method\n",
    "        sns.boxplot(x=donors[feat], ax=ax)\n",
    "\n",
    "    # Layout\n",
    "    # Add a centered title to the figure:\n",
    "    title = \"Numeric Variables' Box Plots\"\n",
    "\n",
    "    plt.suptitle(title)\n",
    "\n",
    "    # Save figure and include time stamp, the feature names and the method in the filename\n",
    "    now_string = str(datetime.datetime.now())[0:19].replace(':', '-').replace(' ', '_')\n",
    "    folder_path = os.path.join('figures')\n",
    "    if not os.path.exists(folder_path):\n",
    "        os.makedirs(folder_path)\n",
    "    filename = now_string + '_' +  '-'.join(features) + '_boxplots.png'\n",
    "    plt.savefig(os.path.join(folder_path, filename), dpi=200)\n",
    "    \n",
    "    plt.show()"
   ]
  },
  {
   "cell_type": "code",
   "execution_count": null,
   "metadata": {},
   "outputs": [],
   "source": [
    "# Adapted from \"lab04_data_visualization\" (Data Mining)\n",
    "\n",
    "def pairwise(features, flag_kdeplot):\n",
    "    \"\"\"This function takes a list of features and creates their pairwise scatterplots and each feature's histogram.\n",
    "    If 'flag_kdeplot' = True, a Kernel Dnsity Etimation plot will be added.\"\"\"\n",
    "    \n",
    "    if flag_kdeplot:\n",
    "        print('Plotting with Kernel Density Estimation. This will increase computation time immensely.')\n",
    "    else:\n",
    "        print('Plotting without Kernel Density Estimation.')\n",
    "    \n",
    "    # Pairwise Relationship of Numerical Variables\n",
    "    sns.set()\n",
    "\n",
    "    # Setting pairplot\n",
    "    g = sns.pairplot(donors[features], diag_kind=\"hist\", corner=True)\n",
    "    \n",
    "    if flag_kdeplot:\n",
    "        g.map_lower(sns.kdeplot, levels=4, color=\".2\")\n",
    "\n",
    "    # Layout\n",
    "    plt.subplots_adjust(top=0.95)\n",
    "    plt.suptitle(\"Pairwise Relationship of Numerical Variables\", fontsize=20)\n",
    "\n",
    "    # Save figure and include time stamp, the feature names and the method in the filename\n",
    "    now_string = str(datetime.datetime.now())[0:19].replace(':', '-').replace(' ', '_')\n",
    "    folder_path = os.path.join('figures')\n",
    "    if not os.path.exists(folder_path):\n",
    "        os.makedirs(folder_path)\n",
    "    filename = now_string + '_' +  '-'.join(features) + '_pairwise_plots_' '.png'\n",
    "    plt.savefig(os.path.join(folder_path, filename), dpi=200)\n",
    "    \n",
    "    plt.show()"
   ]
  },
  {
   "cell_type": "code",
   "execution_count": 206,
   "metadata": {},
   "outputs": [],
   "source": [
    "features = [\n",
    "    'AGE901', # (\"Median Age of Population\")\n",
    "    'AGE902', # (\"Median Age of Adults 18 or Older\")\n",
    "    'AGE903', # (\"Median Age of Adults 25 or Older\"\n",
    "    'AGE904', # (\"Average Age of Population\"). Carries slightly less information (in the variance sense) than 'AGE901': Sample standard deviations: 7.2612 years vs. 8.3356 years\n",
    "    'AGE905', # (\"Average Age of Adults >= 18\")\n",
    "    'AGE906' # (\"Average Age of Adults >= 25\")\n",
    "]"
   ]
  },
  {
   "cell_type": "code",
   "execution_count": 207,
   "metadata": {},
   "outputs": [
    {
     "name": "stdout",
     "output_type": "stream",
     "text": [
      "Unique values:\n",
      "[ 8. 12. 13. 14. 15. 16. 17. 18. 19. 20. 21. 22. 23. 24. 25. 26. 27. 28.\n",
      " 29. 30. 31. 32. 33. 34. 35. 36. 37. 38. 39. 40. 41. 42. 43. 44. 45. 46.\n",
      " 47. 48. 49. 50. 51. 52. 53. 54. 55. 56. 57. 58. 59. 60. 61. 62. 63. 64.\n",
      " 65. 66. 67. 68. 69. 70. 71. 72. 73. 74. 75. 76. 77. 78. 79. 80. 81. 83.\n",
      " 84. nan]\n",
      "\n",
      "Percentage of missing values:\n",
      "0.0084 %\n",
      "\n",
      "Minimum value: 8.0 - Share: 0.0042 %\n",
      "Maximum value: 84.0 - Share: 0.001 %\n",
      "\n",
      "Sample standard deviation: 7.7426\n"
     ]
    }
   ],
   "source": [
    "uniques_nans_variance(features[0])"
   ]
  },
  {
   "cell_type": "code",
   "execution_count": 208,
   "metadata": {},
   "outputs": [
    {
     "data": {
      "text/html": [
       "<div>\n",
       "<style scoped>\n",
       "    .dataframe tbody tr th:only-of-type {\n",
       "        vertical-align: middle;\n",
       "    }\n",
       "\n",
       "    .dataframe tbody tr th {\n",
       "        vertical-align: top;\n",
       "    }\n",
       "\n",
       "    .dataframe thead th {\n",
       "        text-align: right;\n",
       "    }\n",
       "</style>\n",
       "<table border=\"1\" class=\"dataframe\">\n",
       "  <thead>\n",
       "    <tr style=\"text-align: right;\">\n",
       "      <th></th>\n",
       "      <th>Missing values [%]</th>\n",
       "      <th>Sample standard deviation [Unit of feature]</th>\n",
       "      <th>Minimum [Unit of f.]</th>\n",
       "      <th>Share of Minimum [%]:</th>\n",
       "      <th>Maximum [Unit of f.]</th>\n",
       "      <th>Share of Maximum [%]</th>\n",
       "    </tr>\n",
       "  </thead>\n",
       "  <tbody>\n",
       "    <tr>\n",
       "      <th>AGE901</th>\n",
       "      <td>0.0084</td>\n",
       "      <td>7.7426</td>\n",
       "      <td>8.0</td>\n",
       "      <td>0.0042</td>\n",
       "      <td>84.0</td>\n",
       "      <td>0.001</td>\n",
       "    </tr>\n",
       "    <tr>\n",
       "      <th>AGE902</th>\n",
       "      <td>0.0084</td>\n",
       "      <td>7.3261</td>\n",
       "      <td>19.0</td>\n",
       "      <td>0.0367</td>\n",
       "      <td>84.0</td>\n",
       "      <td>0.001</td>\n",
       "    </tr>\n",
       "    <tr>\n",
       "      <th>AGE903</th>\n",
       "      <td>0.0084</td>\n",
       "      <td>6.9989</td>\n",
       "      <td>27.0</td>\n",
       "      <td>0.0063</td>\n",
       "      <td>84.0</td>\n",
       "      <td>0.001</td>\n",
       "    </tr>\n",
       "    <tr>\n",
       "      <th>AGE904</th>\n",
       "      <td>0.0084</td>\n",
       "      <td>6.4949</td>\n",
       "      <td>12.0</td>\n",
       "      <td>0.0010</td>\n",
       "      <td>84.0</td>\n",
       "      <td>0.001</td>\n",
       "    </tr>\n",
       "    <tr>\n",
       "      <th>AGE905</th>\n",
       "      <td>0.0084</td>\n",
       "      <td>5.6426</td>\n",
       "      <td>19.0</td>\n",
       "      <td>0.0010</td>\n",
       "      <td>84.0</td>\n",
       "      <td>0.001</td>\n",
       "    </tr>\n",
       "    <tr>\n",
       "      <th>AGE906</th>\n",
       "      <td>0.0084</td>\n",
       "      <td>5.3142</td>\n",
       "      <td>27.0</td>\n",
       "      <td>0.0021</td>\n",
       "      <td>84.0</td>\n",
       "      <td>0.001</td>\n",
       "    </tr>\n",
       "  </tbody>\n",
       "</table>\n",
       "</div>"
      ],
      "text/plain": [
       "        Missing values [%]  Sample standard deviation [Unit of feature]  \\\n",
       "AGE901              0.0084                                       7.7426   \n",
       "AGE902              0.0084                                       7.3261   \n",
       "AGE903              0.0084                                       6.9989   \n",
       "AGE904              0.0084                                       6.4949   \n",
       "AGE905              0.0084                                       5.6426   \n",
       "AGE906              0.0084                                       5.3142   \n",
       "\n",
       "        Minimum [Unit of f.]  Share of Minimum [%]:  Maximum [Unit of f.]  \\\n",
       "AGE901                   8.0                 0.0042                  84.0   \n",
       "AGE902                  19.0                 0.0367                  84.0   \n",
       "AGE903                  27.0                 0.0063                  84.0   \n",
       "AGE904                  12.0                 0.0010                  84.0   \n",
       "AGE905                  19.0                 0.0010                  84.0   \n",
       "AGE906                  27.0                 0.0021                  84.0   \n",
       "\n",
       "        Share of Maximum [%]  \n",
       "AGE901                 0.001  \n",
       "AGE902                 0.001  \n",
       "AGE903                 0.001  \n",
       "AGE904                 0.001  \n",
       "AGE905                 0.001  \n",
       "AGE906                 0.001  "
      ]
     },
     "execution_count": 208,
     "metadata": {},
     "output_type": "execute_result"
    }
   ],
   "source": [
    "df_nans_variance_min_max(features)"
   ]
  },
  {
   "cell_type": "code",
   "execution_count": 209,
   "metadata": {},
   "outputs": [
    {
     "data": {
      "text/plain": [
       "AGE901    7.7426\n",
       "AGE902    7.3261\n",
       "AGE903    6.9989\n",
       "AGE904    6.4949\n",
       "AGE905    5.6426\n",
       "AGE906    5.3142\n",
       "Name: Sample standard deviation [Unit of feature], dtype: float64"
      ]
     },
     "execution_count": 209,
     "metadata": {},
     "output_type": "execute_result"
    }
   ],
   "source": [
    "df_nans_variance_min_max(features)['Sample standard deviation [Unit of feature]']"
   ]
  },
  {
   "cell_type": "code",
   "execution_count": 210,
   "metadata": {},
   "outputs": [
    {
     "data": {
      "image/png": "[encoded data removed]",
      "text/plain": [
       "<Figure size 720x576 with 2 Axes>"
      ]
     },
     "metadata": {
      "image/png": {
       "height": 512,
       "width": 569
      }
     },
     "output_type": "display_data"
    }
   ],
   "source": [
    "corr_matrix_visualisation(features, 'pearson')"
   ]
  },
  {
   "cell_type": "code",
   "execution_count": 211,
   "metadata": {},
   "outputs": [
    {
     "data": {
      "image/png": "[encoded data removed]",
      "text/plain": [
       "<Figure size 720x576 with 2 Axes>"
      ]
     },
     "metadata": {
      "image/png": {
       "height": 512,
       "width": 569
      }
     },
     "output_type": "display_data"
    }
   ],
   "source": [
    "corr_matrix_visualisation(features, 'spearman')"
   ]
  },
  {
   "cell_type": "code",
   "execution_count": 213,
   "metadata": {},
   "outputs": [
    {
     "name": "stdout",
     "output_type": "stream",
     "text": [
      "Number of bins: 100\n"
     ]
    },
    {
     "data": {
      "image/png": "[encoded data removed]",
      "text/plain": [
       "<Figure size 1440x792 with 6 Axes>"
      ]
     },
     "metadata": {
      "image/png": {
       "height": 723,
       "width": 1164
      }
     },
     "output_type": "display_data"
    }
   ],
   "source": [
    "many_hists(features, 100)"
   ]
  },
  {
   "cell_type": "code",
   "execution_count": 214,
   "metadata": {},
   "outputs": [
    {
     "data": {
      "image/png": "[encoded data removed]",
      "text/plain": [
       "<Figure size 1440x792 with 6 Axes>"
      ]
     },
     "metadata": {
      "image/png": {
       "height": 726,
       "width": 1130
      }
     },
     "output_type": "display_data"
    }
   ],
   "source": [
    "many_boxplots(features)"
   ]
  },
  {
   "cell_type": "code",
   "execution_count": null,
   "metadata": {},
   "outputs": [
    {
     "name": "stdout",
     "output_type": "stream",
     "text": [
      "Plotting with Kernel Density Estimation.\n"
     ]
    }
   ],
   "source": [
    "t_before = datetime.datetime.now()\n",
    "\n",
    "pairwise(features, True)\n",
    "\n",
    "t_after = datetime.datetime.now()\n",
    "print('Computation time = ', t_after - t_before)"
   ]
  },
  {
   "cell_type": "code",
   "execution_count": null,
   "metadata": {},
   "outputs": [],
   "source": [
    "# Following direction of pandas profiling (html file in folder \"pandas-profiling/2020-12-15 14/50/43.266760\"),\n",
    "# determine which features to drop right away:\n",
    "to_drop = [\n",
    "    \n",
    "    # 'RFA_2R' # (\"Recency code for RFA_2\") \n",
    "    \n",
    "    # Is a column with a constant value. No variance, no information. Drop it.\n",
    "    \n",
    "    'RFA_2R',\n",
    "    \n",
    "    #====================\n",
    "    #====================\n",
    "    \n",
    "    # 'POP901', # (\"Number of Persons\")\n",
    "    # 'POP902', # (\"Number of Families\")\n",
    "    # 'POP903' # (\"Number of Households\")\n",
    "    \n",
    "    # 'POP902' and 'POP903' are both highly correlated with 'POP901'.\n",
    "    \n",
    "    # None of the three have missing values.\n",
    "    \n",
    "    # Keep 'POP901'. Drop the other two.\n",
    "    \n",
    "    'POP902', \n",
    "    'POP903',\n",
    "    \n",
    "    #====================\n",
    "    #====================\n",
    "    \n",
    "    # 'ETH13', # (\"Percent Mexican\") \n",
    "    # 'ETH5' # (\"Percent Hispanic\")\n",
    "    \n",
    "    # Both have no missing values.\n",
    "    \n",
    "    # Sample standard deviations:\n",
    "    # ETH13    11.3335\n",
    "    # ETH5     13.7861\n",
    "    \n",
    "    # -> Keep 'ETH5'\n",
    "    \n",
    "    'ETH13',\n",
    "    \n",
    "    #====================\n",
    "    #====================\n",
    "    \n",
    "    # 'AGE901', # (\"Median Age of Population\")\n",
    "    # 'AGE902', # (\"Median Age of Adults 18 or Older\")\n",
    "    # 'AGE903', # (\"Median Age of Adults 25 or Older\"\n",
    "    # 'AGE904', # (\"Average Age of Population\"). Carries slightly less information (in the variance sense) than 'AGE901': Sample standard deviations: 7.2612 years vs. 8.3356 years\n",
    "    # 'AGE905', # (\"Average Age of Adults >= 18\")\n",
    "    # 'AGE906' # (\"Average Age of Adults >= 25\")\n",
    "    \n",
    "    # The latter 5 are highly correlated with 'AGE901'.\n",
    "    \n",
    "    # All have the same amount of missing values.\n",
    "    \n",
    "    # Sample standard deviations:\n",
    "    # AGE901    7.7426\n",
    "    # AGE902    7.3261\n",
    "    # AGE903    6.9989\n",
    "    # AGE904    6.4949\n",
    "    # AGE905    5.6426\n",
    "    # AGE906    5.3142\n",
    "    \n",
    "    # -> Keep only 'AGE901'\n",
    "    \n",
    "    'AGE902', \n",
    "    'AGE903', \n",
    "    'AGE904', \n",
    "    'AGE905',\n",
    "    'AGE906',\n",
    "    \n",
    "    #====================\n",
    "    #====================\n",
    "    \n",
    "    # Highly correlated with 'HHAGE1' (\"Percent Households w/ Person 65+\"\").\n",
    "    # These four features have a similar meaning.\n",
    "    # None have missing values.\n",
    "    # 'HHAGE1' has the highest variance (Sample standard deviation = 13.0903 %).\n",
    "    \n",
    "    # 'AGEC6', # (\"Percent Adults Age 65-74\") - Sample standard deviation = 6.0038 %\n",
    "    # 'HHAGE2', # (\"Percent Households w/ Person 65+ Living Alone\") - Sample standard deviation = 7.4415 %\n",
    "    # 'HHAGE3', # (\"Percent Households Headed by an Elderly Person Age 65+\") - Sample standard deviation = 12.9639 %\n",
    "    \n",
    "    #====================\n",
    "    #====================\n",
    "    \n",
    "    # 'HHN1', # (\"Percent 1 Person Households\")\n",
    "    # 'HHN2', # (\"Percent 2 Person Households\")\n",
    "    # 'HHN3', # (\"Percent 3 or More Person Households\")\n",
    "    # 'HHN4', # (\"Percent 4 or More Person Households\")\n",
    "    # 'HHN5', # (\"Percent 5 or More Person Households\")\n",
    "    # 'HHN6' # (\"Percent 6 Person Households\")\n",
    "    # 3, 4 and 5, 6 are highly correlated with each other and have similar meanings.\n",
    "    # Sample standard deviations:\n",
    "    # HHN3: 14.5385 %\n",
    "    # HHN4: 11.0592 %\n",
    "    # -> Keep HHN3\n",
    "    # HHN5: 6.3828 %\n",
    "    # HHN6: 3.793 %\n",
    "    # -> Keep HHN5\n",
    "    # -> Drop HHN4, HHN6:\n",
    "    \n",
    "    'HHN4',\n",
    "    'HHN6',\n",
    "    \n",
    "    #====================\n",
    "    #====================\n",
    "    \n",
    "    # 'MARR3', # (\"Percent Widowed\")\n",
    "    # 'AGEC7' # (\"Percent Adults Age >= 75\")\n",
    "    \n",
    "    # When there are many old people, there are also many widowed people.\n",
    "    \n",
    "    # Both have no nan values.\n",
    "    # -> Drop the one with smaller variance.\n",
    "    \n",
    "    # Sample standard deviation:\n",
    "    # MARR3: 4.8877 %\n",
    "    # AGEC7: 6.7237 %\n",
    "    \n",
    "    'MARR3',\n",
    "    \n",
    "    #====================\n",
    "    #====================\n",
    "    \n",
    "    # 'HHP1', # (\"Median Person Per Household\")\n",
    "    # 'HHP2', # (\"Average Person Per Household\")\n",
    "    # 'HHN3', # (\"Percent 3 or More Person Households\")\n",
    "    # 'HHN4', # (\"Percent 4 or More Person Households\")\n",
    "    # 'HHD1', # (\"Percent Households w/ Related Children\")\n",
    "    # 'RHP3' # (\"Median Number of Persons per Housing Unit\")\n",
    "    \n",
    "    # Sample standard deviations:\n",
    "    # HHP1    50.0412 people\n",
    "    # HHP2    49.9018 people\n",
    "    # HHN3    14.5385 %\n",
    "    # HHN4    11.0592 %\n",
    "    # HHD1    13.0351 %\n",
    "    # RHP3     2.5598 people\n",
    "    \n",
    "    # My personal opinion: 'HHD1' has a different meaning to the other 5. Let's keep it.\n",
    "    \n",
    "    # But the other 5 are pretty similar to each other.\n",
    "    \n",
    "    # None of them have missing values.\n",
    "    \n",
    "    # 'RHP3' and 'HHP2' have a lower variance than 'HHP1'. Let's drop them.\n",
    "    # 'HHN4' has a lower variance than 'HHN3'. Let's drop it.\n",
    "    # Out of 'HHP1' and 'HHN3', 'HHP1' is less correlated with 'HHD1' (which we decided to keep). So let's drop 'HHN3'\n",
    "    \n",
    "    'HHP2',\n",
    "    'HHN4',\n",
    "    'RHP3',\n",
    "    'HHN3',\n",
    "    \n",
    "    #====================\n",
    "    \n",
    "    # 'DW1',   # Percent Single Unit Structure\n",
    "    # 'DW2',   # Percent Detached Single Unit Structure\n",
    "    # 'DW3',   # Percent Duplex Structure\n",
    "    # 'DW4',   # Percent Multi (2+) Unit Structures\n",
    "    # 'DW5',   # Percent 3+ Unit Structures\n",
    "    # 'DW6',   # Percent Housing Units in 5+ Unit Structure\n",
    "    # 'DW7',   # Percent Group Quarters\n",
    "    # 'DW8',   # Percent Institutional Group Quarters\n",
    "    # 'DW9',   # Non-Institutional Group Quarters\n",
    "    # 'HUPA2', # Percent Housing Units w/ >= 10 Units at the Address\n",
    "    # 'HUPA6'  # Percent Renter Occupied, 5+ Units\n",
    "    \n",
    "    # Sample standard deviations:\n",
    "    # DW1      24.9746 % (Drop this one and...)\n",
    "    # DW2      26.3531 % (...keep this one)\n",
    "    # DW3       5.3653 % (Pretty independant from the rest. Keep it.)\n",
    "    # DW4      23.8544 % (This one is highly correlated with DW4, DW5, DW6 and HUPA2, HUPA6. Keep DW4 and drop them.)\n",
    "    # DW5      22.6455 % (Drop)\n",
    "    # DW6      20.4578 % (Drop)\n",
    "    # DW7       5.9069 % (Highly correlated with DW8. Keep this one and drop DW8)\n",
    "    # DW8       4.2548 % (Drop)\n",
    "    # DW9       3.9695 % (I assume it's % as well) (Pretty independant from the rest. Keep it.)\n",
    "    # HUPA2    17.1094 % (Drop)\n",
    "    # HUPA6    17.8080 % (Drop)\n",
    "    \n",
    "    'DW1',\n",
    "    'DW5',\n",
    "    'DW6',\n",
    "    'DW8',\n",
    "    'HUPA2',\n",
    "    'HUPA6'\n",
    "]\n",
    "\n",
    "print('Number of features to drop:', len(to_drop))\n",
    "to_drop"
   ]
  },
  {
   "cell_type": "markdown",
   "metadata": {},
   "source": [
    "### Fill missing values for all metric features"
   ]
  },
  {
   "cell_type": "code",
   "execution_count": null,
   "metadata": {},
   "outputs": [],
   "source": [
    "metric_features"
   ]
  },
  {
   "cell_type": "code",
   "execution_count": null,
   "metadata": {},
   "outputs": [],
   "source": [
    "len(metric_features)"
   ]
  },
  {
   "cell_type": "markdown",
   "metadata": {},
   "source": [
    "**For now, let's just fill all missing values with the features median**"
   ]
  },
  {
   "cell_type": "code",
   "execution_count": null,
   "metadata": {},
   "outputs": [],
   "source": [
    "for feature in metric_features:\n",
    "    without_nans = donors[feature].dropna()\n",
    "    if feature in date_features:\n",
    "        median = sorted(without_nans)[len(without_nans)//2]\n",
    "    else:\n",
    "        median = without_nans.median()\n",
    "    donors[feature].fillna(value=median, inplace=True)"
   ]
  },
  {
   "cell_type": "code",
   "execution_count": null,
   "metadata": {},
   "outputs": [],
   "source": [
    "# Get the total number of nan values for the metric features\n",
    "donors[metric_features].isna().sum()[donors[metric_features].isna().sum()!=0].sum()"
   ]
  },
  {
   "cell_type": "markdown",
   "metadata": {},
   "source": [
    "<span style=\"color:red\">**No more nan values present in the metric features**<span>"
   ]
  },
  {
   "cell_type": "code",
   "execution_count": null,
   "metadata": {},
   "outputs": [],
   "source": [
    "# Get the total number of nan values once more\n",
    "donors.isna().sum()[donors.isna().sum()!=0].sum()"
   ]
  },
  {
   "cell_type": "markdown",
   "metadata": {},
   "source": [
    "## Convert date features to numbers\n",
    "**The idea here is to use the value of 'ADATE_2' (Date the 17NK promotion was mailed) of every obersvation as reference date.**\n",
    "\n",
    "**The new values will be the number of days before the reference date. So for example DOB will be turned into the age in days relative to reference date.**\n",
    "\n",
    "**Additionally - for better understandability - all transformed columns are renamed to ......_rel_in_days**"
   ]
  },
  {
   "cell_type": "code",
   "execution_count": null,
   "metadata": {},
   "outputs": [],
   "source": [
    "# Make copies\n",
    "adate_2 = donors['ADATE_2'].copy()\n",
    "date_features_copy = date_features.copy()\n",
    "metric_features_copy = metric_features.copy()\n",
    "\n",
    "for feature in date_features:\n",
    "    \n",
    "    rel_time = adate_2 - donors[feature]\n",
    "    rel_time_days = rel_time.dt.days\n",
    "    donors[feature] = rel_time_days\n",
    "    \n",
    "    # Attach '_rel_in_days' to column name\n",
    "    new_col_name = feature + '_rel_in_days'\n",
    "    donors.rename(columns={feature : new_col_name}, inplace=True)\n",
    "    \n",
    "    # Update our lists 'metric_features' and 'date_features', Step 1\n",
    "    date_features_copy[date_features_copy.index(feature)] = new_col_name\n",
    "    metric_features_copy[metric_features_copy.index(feature)] = new_col_name\n",
    "    \n",
    "# Update our lists 'metric_features' and 'date_features', Step 2\n",
    "date_features = date_features_copy\n",
    "metric_features = metric_features_copy"
   ]
  },
  {
   "cell_type": "code",
   "execution_count": null,
   "metadata": {},
   "outputs": [],
   "source": [
    "donors['ADATE_10_rel_in_days']"
   ]
  },
  {
   "cell_type": "code",
   "execution_count": null,
   "metadata": {},
   "outputs": [],
   "source": [
    "donors['ADATE_2_rel_in_days']"
   ]
  },
  {
   "cell_type": "code",
   "execution_count": null,
   "metadata": {},
   "outputs": [],
   "source": [
    "donors.head(3)"
   ]
  },
  {
   "cell_type": "code",
   "execution_count": null,
   "metadata": {},
   "outputs": [],
   "source": [
    "date_features"
   ]
  },
  {
   "cell_type": "code",
   "execution_count": null,
   "metadata": {},
   "outputs": [],
   "source": [
    "metric_features"
   ]
  },
  {
   "cell_type": "markdown",
   "metadata": {},
   "source": [
    "## Descriptive statistics\n",
    "<span style=\"color:red\">**This part needs work</span>"
   ]
  },
  {
   "cell_type": "code",
   "execution_count": null,
   "metadata": {},
   "outputs": [],
   "source": [
    "# Create some descriptive statistics\n",
    "desc_stats = donors.describe(include=\"all\")  # try with all and without all\n",
    "# desc_stats = donors.describe()  # try with all and without all"
   ]
  },
  {
   "cell_type": "code",
   "execution_count": null,
   "metadata": {},
   "outputs": [],
   "source": [
    "# View a certain one\n",
    "feature = 'DOB_rel_in_days'\n",
    "desc_stats[feature]"
   ]
  },
  {
   "cell_type": "code",
   "execution_count": null,
   "metadata": {},
   "outputs": [],
   "source": [
    "donors[feature][~donors[feature].isna()].describe(include=\"all\")"
   ]
  },
  {
   "cell_type": "markdown",
   "metadata": {},
   "source": [
    "## Metric features that are in string format: Convert to float"
   ]
  },
  {
   "cell_type": "code",
   "execution_count": null,
   "metadata": {},
   "outputs": [],
   "source": [
    "# Get all the data types of metric features, excluding the features defined in 'date_features'\n",
    "dtypes_metric_without_dates = donors[list(set(metric_features) - set(date_features))].dtypes"
   ]
  },
  {
   "cell_type": "code",
   "execution_count": null,
   "metadata": {},
   "outputs": [],
   "source": [
    "# Get the features from 'dtypes_metric_without_dates' that have type 'object'\n",
    "dtypes_metric_without_dates[dtypes_metric_without_dates=='O']"
   ]
  },
  {
   "cell_type": "markdown",
   "metadata": {},
   "source": [
    "<span style=\"color:red\">**Due to the removal of features with high missing-values percentage, no metric features in string format are left**</span>\n",
    "\n",
    "<span style=\"color:red\">**Maybe the function below will be handy for something else**</span>"
   ]
  },
  {
   "cell_type": "code",
   "execution_count": null,
   "metadata": {},
   "outputs": [],
   "source": [
    "# Define a function to convert numerical String features to float\n",
    "def to_num(df, colname):\n",
    "    \"\"\"This function takes a dataframe and a column name and converts the column with this name to float\"\"\"    \n",
    "    df[colname] = pd.to_numeric(df[colname],errors='coerce')"
   ]
  },
  {
   "cell_type": "markdown",
   "metadata": {},
   "source": [
    "## Treat outliers"
   ]
  },
  {
   "cell_type": "code",
   "execution_count": null,
   "metadata": {},
   "outputs": [],
   "source": [
    "iqr_multiplier = 1.5\n",
    "\n",
    "# Get the quartiles. \"numeric_only=False\" so we also get quartiles for datetime columns.\n",
    "q25 = donors[metric_features].quantile(0.25, axis=0, numeric_only=False)\n",
    "q75 = donors[metric_features].quantile(0.75, axis=0, numeric_only=False)\n",
    "iqr = (q75 - q25)\n",
    "\n",
    "upper_lim = q75 + iqr_multiplier * iqr\n",
    "lower_lim = q25 - iqr_multiplier * iqr"
   ]
  },
  {
   "cell_type": "code",
   "execution_count": null,
   "metadata": {},
   "outputs": [],
   "source": [
    "q25"
   ]
  },
  {
   "cell_type": "markdown",
   "metadata": {},
   "source": [
    "## Categorical features: One-hot encode"
   ]
  },
  {
   "cell_type": "code",
   "execution_count": null,
   "metadata": {},
   "outputs": [],
   "source": [
    "donors[non_metric_features].head(5)"
   ]
  },
  {
   "cell_type": "code",
   "execution_count": null,
   "metadata": {},
   "outputs": [],
   "source": [
    "pd.unique(donors[non_metric_features]['MDMAUD_R'])"
   ]
  },
  {
   "cell_type": "code",
   "execution_count": null,
   "metadata": {},
   "outputs": [],
   "source": []
  },
  {
   "cell_type": "code",
   "execution_count": null,
   "metadata": {},
   "outputs": [],
   "source": []
  }
 ],
 "metadata": {
  "kernelspec": {
   "display_name": "Python 3",
   "language": "python",
   "name": "python3"
  },
  "language_info": {
   "codemirror_mode": {
    "name": "ipython",
    "version": 3
   },
   "file_extension": ".py",
   "mimetype": "text/x-python",
   "name": "python",
   "nbconvert_exporter": "python",
   "pygments_lexer": "ipython3",
   "version": "3.8.5"
  }
 },
 "nbformat": 4,
 "nbformat_minor": 4
}

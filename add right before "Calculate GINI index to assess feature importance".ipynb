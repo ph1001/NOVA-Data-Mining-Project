{
 "cells": [
  {
   "cell_type": "code",
   "execution_count": 136,
   "metadata": {},
   "outputs": [
    {
     "name": "stdout",
     "output_type": "stream",
     "text": [
      "Maximum [days]: 31928.0\n",
      "Maximum (approx.) [years]: 87.41596672016541\n",
      "Min. in [days]: -122.0\n",
      "Min. (approx.) [years]: -0.3340249292113562\n"
     ]
    }
   ],
   "source": [
    "print('Maximum [days]:', donors[date_features].max().max())\n",
    "print('Maximum (approx.) [years]:', donors[date_features].max().max()/365.2422)      \n",
    "print('Min. in [days]:', donors[date_features].min().min())\n",
    "print('Min. (approx.) [years]:', donors[date_features].min().min()/365.2422)"
   ]
  },
  {
   "cell_type": "code",
   "execution_count": 137,
   "metadata": {},
   "outputs": [
    {
     "data": {
      "text/plain": [
       "ODATEDW_rel_in_days       90.0\n",
       "DOB_rel_in_days         -122.0\n",
       "ADATE_2_rel_in_days        0.0\n",
       "ADATE_3_rel_in_days      365.0\n",
       "ADATE_4_rel_in_days      273.0\n",
       "ADATE_5_rel_in_days      426.0\n",
       "ADATE_6_rel_in_days      396.0\n",
       "ADATE_7_rel_in_days      425.0\n",
       "ADATE_8_rel_in_days      396.0\n",
       "ADATE_9_rel_in_days      517.0\n",
       "ADATE_10_rel_in_days     517.0\n",
       "ADATE_11_rel_in_days     517.0\n",
       "ADATE_12_rel_in_days     578.0\n",
       "ADATE_14_rel_in_days     670.0\n",
       "ADATE_16_rel_in_days     731.0\n",
       "ADATE_17_rel_in_days     790.0\n",
       "ADATE_18_rel_in_days     670.0\n",
       "ADATE_19_rel_in_days     882.0\n",
       "ADATE_21_rel_in_days     913.0\n",
       "ADATE_22_rel_in_days     670.0\n",
       "ADATE_24_rel_in_days    1035.0\n",
       "MAXADATE_rel_in_days      59.0\n",
       "MINRDATE_rel_in_days     120.0\n",
       "MAXRDATE_rel_in_days     120.0\n",
       "LASTDATE_rel_in_days     120.0\n",
       "FISTDATE_rel_in_days     457.0\n",
       "NEXTDATE_rel_in_days     120.0\n",
       "dtype: float64"
      ]
     },
     "execution_count": 137,
     "metadata": {},
     "output_type": "execute_result"
    }
   ],
   "source": [
    "donors[date_features].min()"
   ]
  },
  {
   "cell_type": "code",
   "execution_count": 158,
   "metadata": {},
   "outputs": [
    {
     "data": {
      "text/plain": [
       "22984      0.0\n",
       "40565    -61.0\n",
       "52252   -122.0\n",
       "60753   -122.0\n",
       "94452    -61.0\n",
       "Name: DOB_rel_in_days, dtype: float64"
      ]
     },
     "execution_count": 158,
     "metadata": {},
     "output_type": "execute_result"
    }
   ],
   "source": [
    "multipl = 0\n",
    "donors['DOB_rel_in_days'][donors['DOB_rel_in_days']<=multipl*365.2422]"
   ]
  },
  {
   "cell_type": "code",
   "execution_count": 171,
   "metadata": {},
   "outputs": [
    {
     "data": {
      "text/plain": [
       "Int64Index([], dtype='int64')"
      ]
     },
     "execution_count": 171,
     "metadata": {},
     "output_type": "execute_result"
    }
   ],
   "source": [
    "ind_to_drop = donors['DOB_rel_in_days'][donors['DOB_rel_in_days']<=multipl*365.2422].index\n",
    "ind_to_drop"
   ]
  },
  {
   "cell_type": "code",
   "execution_count": 170,
   "metadata": {},
   "outputs": [
    {
     "data": {
      "text/plain": [
       "Int64Index([22984, 40565, 52252, 60753, 94452], dtype='int64')"
      ]
     },
     "execution_count": 170,
     "metadata": {},
     "output_type": "execute_result"
    }
   ],
   "source": [
    "ind_to_drop"
   ]
  },
  {
   "cell_type": "code",
   "execution_count": 164,
   "metadata": {},
   "outputs": [
    {
     "name": "stdout",
     "output_type": "stream",
     "text": [
      "(95412, 286)\n"
     ]
    },
    {
     "data": {
      "text/html": [
       "<div>\n",
       "<style scoped>\n",
       "    .dataframe tbody tr th:only-of-type {\n",
       "        vertical-align: middle;\n",
       "    }\n",
       "\n",
       "    .dataframe tbody tr th {\n",
       "        vertical-align: top;\n",
       "    }\n",
       "\n",
       "    .dataframe thead th {\n",
       "        text-align: right;\n",
       "    }\n",
       "</style>\n",
       "<table border=\"1\" class=\"dataframe\">\n",
       "  <thead>\n",
       "    <tr style=\"text-align: right;\">\n",
       "      <th></th>\n",
       "      <th>ODATEDW_rel_in_days</th>\n",
       "      <th>OSOURCE</th>\n",
       "      <th>STATE</th>\n",
       "      <th>ZIP</th>\n",
       "      <th>DOB_rel_in_days</th>\n",
       "      <th>MDMAUD</th>\n",
       "      <th>DOMAIN</th>\n",
       "      <th>HOMEOWNR</th>\n",
       "      <th>INCOME</th>\n",
       "      <th>GENDER</th>\n",
       "      <th>...</th>\n",
       "      <th>NEXTDATE_rel_in_days</th>\n",
       "      <th>TIMELAG</th>\n",
       "      <th>AVGGIFT</th>\n",
       "      <th>HPHONE_D</th>\n",
       "      <th>RFA_2F</th>\n",
       "      <th>RFA_2A</th>\n",
       "      <th>MDMAUD_R</th>\n",
       "      <th>MDMAUD_F</th>\n",
       "      <th>MDMAUD_A</th>\n",
       "      <th>GEOCODE2</th>\n",
       "    </tr>\n",
       "  </thead>\n",
       "  <tbody>\n",
       "    <tr>\n",
       "      <th>22984</th>\n",
       "      <td>2708</td>\n",
       "      <td>NaN</td>\n",
       "      <td>KY</td>\n",
       "      <td>40476</td>\n",
       "      <td>0.0</td>\n",
       "      <td>XXXX</td>\n",
       "      <td>R3</td>\n",
       "      <td>U</td>\n",
       "      <td>2.0</td>\n",
       "      <td>F</td>\n",
       "      <td>...</td>\n",
       "      <td>2649.0</td>\n",
       "      <td>0.0</td>\n",
       "      <td>9.888889</td>\n",
       "      <td>0</td>\n",
       "      <td>1</td>\n",
       "      <td>F</td>\n",
       "      <td>X</td>\n",
       "      <td>X</td>\n",
       "      <td>X</td>\n",
       "      <td>C</td>\n",
       "    </tr>\n",
       "    <tr>\n",
       "      <th>40565</th>\n",
       "      <td>2343</td>\n",
       "      <td>SYN</td>\n",
       "      <td>IL</td>\n",
       "      <td>60131</td>\n",
       "      <td>-61.0</td>\n",
       "      <td>XXXX</td>\n",
       "      <td>S2</td>\n",
       "      <td>U</td>\n",
       "      <td>2.0</td>\n",
       "      <td>M</td>\n",
       "      <td>...</td>\n",
       "      <td>2009.0</td>\n",
       "      <td>9.0</td>\n",
       "      <td>11.000000</td>\n",
       "      <td>1</td>\n",
       "      <td>3</td>\n",
       "      <td>F</td>\n",
       "      <td>X</td>\n",
       "      <td>X</td>\n",
       "      <td>X</td>\n",
       "      <td>A</td>\n",
       "    </tr>\n",
       "    <tr>\n",
       "      <th>52252</th>\n",
       "      <td>4169</td>\n",
       "      <td>DNA</td>\n",
       "      <td>IL</td>\n",
       "      <td>60201</td>\n",
       "      <td>-122.0</td>\n",
       "      <td>XXXX</td>\n",
       "      <td>S1</td>\n",
       "      <td>H</td>\n",
       "      <td>7.0</td>\n",
       "      <td>F</td>\n",
       "      <td>...</td>\n",
       "      <td>3257.0</td>\n",
       "      <td>22.0</td>\n",
       "      <td>27.708333</td>\n",
       "      <td>1</td>\n",
       "      <td>2</td>\n",
       "      <td>G</td>\n",
       "      <td>X</td>\n",
       "      <td>X</td>\n",
       "      <td>X</td>\n",
       "      <td>A</td>\n",
       "    </tr>\n",
       "    <tr>\n",
       "      <th>60753</th>\n",
       "      <td>4169</td>\n",
       "      <td>ENQ</td>\n",
       "      <td>FL</td>\n",
       "      <td>33702</td>\n",
       "      <td>-122.0</td>\n",
       "      <td>XXXX</td>\n",
       "      <td>U4</td>\n",
       "      <td>NaN</td>\n",
       "      <td>NaN</td>\n",
       "      <td>F</td>\n",
       "      <td>...</td>\n",
       "      <td>3835.0</td>\n",
       "      <td>3.0</td>\n",
       "      <td>4.804348</td>\n",
       "      <td>0</td>\n",
       "      <td>4</td>\n",
       "      <td>D</td>\n",
       "      <td>X</td>\n",
       "      <td>X</td>\n",
       "      <td>X</td>\n",
       "      <td>A</td>\n",
       "    </tr>\n",
       "    <tr>\n",
       "      <th>94452</th>\n",
       "      <td>4169</td>\n",
       "      <td>HOL</td>\n",
       "      <td>CO</td>\n",
       "      <td>80911</td>\n",
       "      <td>-61.0</td>\n",
       "      <td>XXXX</td>\n",
       "      <td>S3</td>\n",
       "      <td>H</td>\n",
       "      <td>1.0</td>\n",
       "      <td>F</td>\n",
       "      <td>...</td>\n",
       "      <td>3745.0</td>\n",
       "      <td>4.0</td>\n",
       "      <td>6.545455</td>\n",
       "      <td>0</td>\n",
       "      <td>3</td>\n",
       "      <td>E</td>\n",
       "      <td>X</td>\n",
       "      <td>X</td>\n",
       "      <td>X</td>\n",
       "      <td>B</td>\n",
       "    </tr>\n",
       "  </tbody>\n",
       "</table>\n",
       "<p>5 rows × 286 columns</p>\n",
       "</div>"
      ],
      "text/plain": [
       "       ODATEDW_rel_in_days OSOURCE STATE    ZIP  DOB_rel_in_days MDMAUD  \\\n",
       "22984                 2708     NaN    KY  40476              0.0   XXXX   \n",
       "40565                 2343     SYN    IL  60131            -61.0   XXXX   \n",
       "52252                 4169     DNA    IL  60201           -122.0   XXXX   \n",
       "60753                 4169     ENQ    FL  33702           -122.0   XXXX   \n",
       "94452                 4169     HOL    CO  80911            -61.0   XXXX   \n",
       "\n",
       "      DOMAIN HOMEOWNR  INCOME GENDER  ...  NEXTDATE_rel_in_days TIMELAG  \\\n",
       "22984     R3        U     2.0      F  ...                2649.0     0.0   \n",
       "40565     S2        U     2.0      M  ...                2009.0     9.0   \n",
       "52252     S1        H     7.0      F  ...                3257.0    22.0   \n",
       "60753     U4      NaN     NaN      F  ...                3835.0     3.0   \n",
       "94452     S3        H     1.0      F  ...                3745.0     4.0   \n",
       "\n",
       "         AVGGIFT  HPHONE_D  RFA_2F  RFA_2A  MDMAUD_R  MDMAUD_F  MDMAUD_A  \\\n",
       "22984   9.888889         0       1       F         X         X         X   \n",
       "40565  11.000000         1       3       F         X         X         X   \n",
       "52252  27.708333         1       2       G         X         X         X   \n",
       "60753   4.804348         0       4       D         X         X         X   \n",
       "94452   6.545455         0       3       E         X         X         X   \n",
       "\n",
       "       GEOCODE2  \n",
       "22984         C  \n",
       "40565         A  \n",
       "52252         A  \n",
       "60753         A  \n",
       "94452         B  \n",
       "\n",
       "[5 rows x 286 columns]"
      ]
     },
     "execution_count": 164,
     "metadata": {},
     "output_type": "execute_result"
    }
   ],
   "source": [
    "print(donors.shape)\n",
    "donors.iloc[ind_to_drop]"
   ]
  },
  {
   "cell_type": "code",
   "execution_count": 166,
   "metadata": {},
   "outputs": [],
   "source": [
    "donors = donors.drop(index=ind_to_drop)"
   ]
  },
  {
   "cell_type": "code",
   "execution_count": 169,
   "metadata": {
    "scrolled": true
   },
   "outputs": [
    {
     "name": "stdout",
     "output_type": "stream",
     "text": [
      "(95407, 286)\n"
     ]
    }
   ],
   "source": [
    "print(donors.shape)"
   ]
  },
  {
   "cell_type": "code",
   "execution_count": null,
   "metadata": {},
   "outputs": [],
   "source": []
  }
 ],
 "metadata": {
  "kernelspec": {
   "display_name": "Python 3",
   "language": "python",
   "name": "python3"
  },
  "language_info": {
   "codemirror_mode": {
    "name": "ipython",
    "version": 3
   },
   "file_extension": ".py",
   "mimetype": "text/x-python",
   "name": "python",
   "nbconvert_exporter": "python",
   "pygments_lexer": "ipython3",
   "version": "3.9.1"
  }
 },
 "nbformat": 4,
 "nbformat_minor": 4
}
